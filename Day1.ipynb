{
 "cells": [
  {
   "cell_type": "code",
   "execution_count": 2,
   "id": "02dfd43c-8da2-4a23-bbf0-1f7d845cfbd6",
   "metadata": {},
   "outputs": [
    {
     "name": "stdout",
     "output_type": "stream",
     "text": [
      "7\n"
     ]
    }
   ],
   "source": [
    "a=7\n",
    "print(a)\n"
   ]
  },
  {
   "cell_type": "code",
   "execution_count": null,
   "id": "0d653d28-3e6c-47de-abe7-b282acb5c776",
   "metadata": {},
   "outputs": [],
   "source": [
    "#operators\n",
    "1)arithmetic operators"
   ]
  },
  {
   "cell_type": "code",
   "execution_count": null,
   "id": "db18167c-9a8a-46f7-a2d3-74bec22d98f9",
   "metadata": {},
   "outputs": [],
   "source": [
    "+,-,*,/,%,**,//"
   ]
  },
  {
   "cell_type": "code",
   "execution_count": 9,
   "id": "10d67fda-ca8c-4f40-b989-bad51113271e",
   "metadata": {},
   "outputs": [
    {
     "name": "stdin",
     "output_type": "stream",
     "text": [
      "Enter first number: 50\n",
      "Enter operator: *\n",
      "Enter second number; 5\n"
     ]
    },
    {
     "name": "stdout",
     "output_type": "stream",
     "text": [
      "Result: 250.0\n"
     ]
    }
   ],
   "source": [
    "#simple calculator\n",
    "num1=float(input(\"Enter first number:\"))\n",
    "operator=input(\"Enter operator:\")\n",
    "num2=float(input(\"Enter second number;\"))\n",
    "if operator == '+':\n",
    "    result=num1 + num2\n",
    "elif operator == '-':\n",
    "    result=num1 - num2\n",
    "elif operator == '*':\n",
    "    result=num1 * num2\n",
    "elif operator == '/':\n",
    "    if num2 != 0:\n",
    "        result=num1/num2\n",
    "    else:\n",
    "        result = \"Error! Division by zero.\"   \n",
    "else:\n",
    "    result=\"Invalid operator!\"\n",
    "print(\"Result:\", result)"
   ]
  },
  {
   "cell_type": "code",
   "execution_count": null,
   "id": "afb0da7e-d538-4622-b2bb-b5d7161c2ca7",
   "metadata": {},
   "outputs": [],
   "source": [
    "2)Assignment Operators"
   ]
  },
  {
   "cell_type": "code",
   "execution_count": null,
   "id": "a0ec36d3-709d-4405-9674-6a606a2655cf",
   "metadata": {},
   "outputs": [],
   "source": [
    "=,=+,=-"
   ]
  },
  {
   "cell_type": "code",
   "execution_count": 10,
   "id": "5a57940c-b750-43dd-a329-20bbeb613496",
   "metadata": {},
   "outputs": [
    {
     "name": "stdout",
     "output_type": "stream",
     "text": [
      "10\n"
     ]
    }
   ],
   "source": [
    "x=6\n",
    "x+=4\n",
    "print(x)"
   ]
  },
  {
   "cell_type": "code",
   "execution_count": null,
   "id": "37eef184-2276-43ac-9799-49dee44913b1",
   "metadata": {},
   "outputs": [],
   "source": [
    "3)Comparison Operators"
   ]
  },
  {
   "cell_type": "markdown",
   "id": "d32639d8-0c2b-41e0-8a39-be9d9ae4687e",
   "metadata": {
    "jp-MarkdownHeadingCollapsed": true
   },
   "source": [
    "<,>,<=,>=,==,!="
   ]
  },
  {
   "cell_type": "code",
   "execution_count": 11,
   "id": "95c22731-4347-4a1d-8b24-bfa4a454c39e",
   "metadata": {},
   "outputs": [
    {
     "name": "stdout",
     "output_type": "stream",
     "text": [
      "True\n",
      "False\n",
      "True\n",
      "False\n",
      "True\n",
      "False\n"
     ]
    }
   ],
   "source": [
    "x=5\n",
    "y=6\n",
    "print(x<y)\n",
    "print(x>y)\n",
    "print(x<=y)\n",
    "print(x>=y)\n",
    "print(x!=y)\n",
    "print(x==y)"
   ]
  },
  {
   "cell_type": "code",
   "execution_count": null,
   "id": "0d1680cb-8347-4049-b640-79950a15a617",
   "metadata": {},
   "outputs": [],
   "source": [
    "4)Logical operators"
   ]
  },
  {
   "cell_type": "code",
   "execution_count": null,
   "id": "2ff29bc2-98ac-44c9-94c2-bb2f34bcc44a",
   "metadata": {},
   "outputs": [],
   "source": [
    "AND,OR,Not"
   ]
  },
  {
   "cell_type": "code",
   "execution_count": 12,
   "id": "815c7b1f-5683-4b04-ad12-f97ca01b00a3",
   "metadata": {},
   "outputs": [
    {
     "name": "stdout",
     "output_type": "stream",
     "text": [
      "True\n",
      "True\n",
      "False\n"
     ]
    }
   ],
   "source": [
    "x=5\n",
    "print(x>3 and x<9)\n",
    "print(x>3 or x<5)\n",
    "print(not(x>3 and x<9))"
   ]
  },
  {
   "cell_type": "code",
   "execution_count": null,
   "id": "dcc97245-836e-4343-a454-36e2ebe314d3",
   "metadata": {},
   "outputs": [],
   "source": [
    "5)Membership Operators"
   ]
  },
  {
   "cell_type": "code",
   "execution_count": null,
   "id": "d0936bc7-5616-4695-8735-4186e19596bf",
   "metadata": {},
   "outputs": [],
   "source": [
    "in, not in"
   ]
  },
  {
   "cell_type": "code",
   "execution_count": 13,
   "id": "1f8b74f9-40af-4c5b-98a4-837deeab073e",
   "metadata": {},
   "outputs": [
    {
     "name": "stdout",
     "output_type": "stream",
     "text": [
      "white is in the list\n",
      "blue is not in the list\n"
     ]
    }
   ],
   "source": [
    "colors=[\"red\",\"orange\",\"white\",\"yellow\"]\n",
    "x=\"white\"\n",
    "if x in colors:\n",
    "    print(\"white is in the list\")\n",
    "y=\"blue\"\n",
    "if y not in colors:\n",
    "    print(\"blue is not in the list\")"
   ]
  },
  {
   "cell_type": "code",
   "execution_count": null,
   "id": "22b3bb66-3ae7-4c0d-b4da-3de4d52dbcb6",
   "metadata": {},
   "outputs": [],
   "source": [
    "6)Bitwise logical operators"
   ]
  },
  {
   "cell_type": "code",
   "execution_count": 17,
   "id": "68b3c99b-3971-471c-af6b-adacdd3bb1fb",
   "metadata": {},
   "outputs": [
    {
     "name": "stdout",
     "output_type": "stream",
     "text": [
      "2\n",
      "7\n",
      "5\n",
      "-4\n"
     ]
    }
   ],
   "source": [
    "print(6&3)\n",
    "print(5|2)\n",
    "print(6^3)\n",
    "print(~3)"
   ]
  },
  {
   "cell_type": "code",
   "execution_count": null,
   "id": "373714eb-df95-4921-8445-5d621dca5187",
   "metadata": {},
   "outputs": [],
   "source": [
    "7)Identity operators"
   ]
  },
  {
   "cell_type": "code",
   "execution_count": null,
   "id": "d4cb76d3-7609-485f-948c-8e512616d2a5",
   "metadata": {},
   "outputs": [],
   "source": [
    "is,is not"
   ]
  },
  {
   "cell_type": "code",
   "execution_count": 18,
   "id": "f79d9e1d-8fad-4b2e-99ab-4bb5392c64e5",
   "metadata": {},
   "outputs": [
    {
     "name": "stdout",
     "output_type": "stream",
     "text": [
      "True\n",
      "False\n",
      "True\n"
     ]
    }
   ],
   "source": [
    "x=[\"apple\",\"banana\"]\n",
    "y=[\"apple\",\"banana\"]\n",
    "z=x\n",
    "print(x is z)\n",
    "print(x is y)\n",
    "print(x==y)"
   ]
  },
  {
   "cell_type": "code",
   "execution_count": null,
   "id": "e09f5a23-f2ea-4162-972e-be09168711b7",
   "metadata": {},
   "outputs": [],
   "source": []
  }
 ],
 "metadata": {
  "kernelspec": {
   "display_name": "Python [conda env:base] *",
   "language": "python",
   "name": "conda-base-py"
  },
  "language_info": {
   "codemirror_mode": {
    "name": "ipython",
    "version": 3
   },
   "file_extension": ".py",
   "mimetype": "text/x-python",
   "name": "python",
   "nbconvert_exporter": "python",
   "pygments_lexer": "ipython3",
   "version": "3.13.5"
  }
 },
 "nbformat": 4,
 "nbformat_minor": 5
}
