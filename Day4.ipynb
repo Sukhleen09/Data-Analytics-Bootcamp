{
 "cells": [
  {
   "cell_type": "code",
   "execution_count": 3,
   "id": "6a6b4761-1786-406d-a684-1189891a13d6",
   "metadata": {},
   "outputs": [
    {
     "name": "stdout",
     "output_type": "stream",
     "text": [
      "15\n"
     ]
    }
   ],
   "source": [
    "#functions\n",
    "def add():\n",
    "    a=5\n",
    "    b=10\n",
    "    print(a+b)\n",
    "add()"
   ]
  },
  {
   "cell_type": "code",
   "execution_count": 4,
   "id": "ce121541-497a-4400-9d75-6a20aabbbd5a",
   "metadata": {},
   "outputs": [
    {
     "name": "stdout",
     "output_type": "stream",
     "text": [
      "1000.0\n"
     ]
    }
   ],
   "source": [
    "#Calculate Simple Interest\n",
    "def SI(p,r,t):\n",
    "    simpleInterest=(p*r*t)/100\n",
    "    print(simpleInterest)\n",
    "SI(1000,10,10)"
   ]
  },
  {
   "cell_type": "code",
   "execution_count": 12,
   "id": "2390807f-ae42-49ed-98c7-3a41b7ebaa7d",
   "metadata": {},
   "outputs": [
    {
     "name": "stdout",
     "output_type": "stream",
     "text": [
      "0\n",
      "1\n",
      "3\n",
      "6\n",
      "10\n",
      "15\n",
      "21\n",
      "28\n",
      "36\n",
      "45\n",
      "55\n",
      "66\n",
      "78\n",
      "91\n",
      "105\n",
      "120\n",
      "136\n",
      "153\n",
      "171\n",
      "190\n",
      "210\n",
      "231\n",
      "253\n",
      "276\n",
      "300\n",
      "325\n",
      "351\n",
      "378\n",
      "406\n",
      "435\n",
      "465\n",
      "496\n",
      "528\n",
      "561\n",
      "595\n",
      "630\n",
      "666\n",
      "703\n",
      "741\n",
      "780\n",
      "820\n",
      "861\n",
      "903\n",
      "946\n",
      "990\n",
      "1035\n",
      "1081\n",
      "1128\n",
      "1176\n",
      "1225\n",
      "1275\n"
     ]
    }
   ],
   "source": [
    "#create a function to find the sum of all natural numbers between 1 to 50\n",
    "def Nsum():\n",
    "    n=0\n",
    "    for i in range(0,51):\n",
    "        n+=i\n",
    "        print(n)\n",
    "Nsum()"
   ]
  },
  {
   "cell_type": "code",
   "execution_count": 14,
   "id": "53b9e11e-5ff7-47a6-b9ea-ace2249c3616",
   "metadata": {},
   "outputs": [
    {
     "name": "stdout",
     "output_type": "stream",
     "text": [
      "1\n",
      "4\n",
      "9\n",
      "16\n",
      "25\n",
      "36\n",
      "49\n",
      "64\n",
      "81\n",
      "100\n",
      "121\n",
      "144\n",
      "169\n",
      "196\n",
      "225\n",
      "256\n",
      "289\n",
      "324\n",
      "361\n",
      "400\n",
      "441\n",
      "484\n",
      "529\n",
      "576\n",
      "625\n"
     ]
    }
   ],
   "source": [
    "def Nsum():\n",
    "    n=0\n",
    "    for i in range(0,51):\n",
    "        if i%2!=0:\n",
    "            n+=i\n",
    "            print(n)\n",
    "Nsum()"
   ]
  },
  {
   "cell_type": "code",
   "execution_count": 15,
   "id": "caf6a960-ecef-426a-8aa3-e78d762704d5",
   "metadata": {},
   "outputs": [
    {
     "name": "stdout",
     "output_type": "stream",
     "text": [
      "5\n"
     ]
    }
   ],
   "source": [
    "def sub(a,b=5):\n",
    "    print(a-b)\n",
    "sub(10)"
   ]
  },
  {
   "cell_type": "code",
   "execution_count": 16,
   "id": "ca689c38-f5c8-4222-96b6-c1063e4a44aa",
   "metadata": {},
   "outputs": [
    {
     "name": "stdout",
     "output_type": "stream",
     "text": [
      "9\n"
     ]
    }
   ],
   "source": [
    "sub(12,3)"
   ]
  },
  {
   "cell_type": "code",
   "execution_count": 18,
   "id": "055818e6-41c0-4453-be28-642bdd0e909f",
   "metadata": {},
   "outputs": [
    {
     "name": "stdout",
     "output_type": "stream",
     "text": [
      "3\n"
     ]
    }
   ],
   "source": [
    "def sub(a=15,b=9):\n",
    "    print(a-b)\n",
    "sub(7,4)"
   ]
  },
  {
   "cell_type": "code",
   "execution_count": null,
   "id": "ae884193-e3ea-4e5c-b55e-a135d0bfb61b",
   "metadata": {},
   "outputs": [],
   "source": []
  }
 ],
 "metadata": {
  "kernelspec": {
   "display_name": "Python [conda env:base] *",
   "language": "python",
   "name": "conda-base-py"
  },
  "language_info": {
   "codemirror_mode": {
    "name": "ipython",
    "version": 3
   },
   "file_extension": ".py",
   "mimetype": "text/x-python",
   "name": "python",
   "nbconvert_exporter": "python",
   "pygments_lexer": "ipython3",
   "version": "3.13.5"
  }
 },
 "nbformat": 4,
 "nbformat_minor": 5
}
