{
 "cells": [
  {
   "cell_type": "code",
   "execution_count": null,
   "id": "2e662968-679c-4573-891c-b4ca257c6ec2",
   "metadata": {},
   "outputs": [],
   "source": [
    "#major project (atmpin)"
   ]
  },
  {
   "cell_type": "code",
   "execution_count": 1,
   "id": "d6987179-d3b8-43e2-87c9-5fb799b07640",
   "metadata": {},
   "outputs": [],
   "source": [
    "import sqlite3\n",
    "\n",
    "# Database connection\n",
    "conn = sqlite3.connect(\"atm.db\")\n",
    "cur = conn.cursor()\n",
    "\n",
    "# Table create (run once)\n",
    "cur.execute('''\n",
    "CREATE TABLE IF NOT EXISTS accounts (\n",
    "    acc_no INTEGER PRIMARY KEY AUTOINCREMENT,\n",
    "    name TEXT,\n",
    "    pin TEXT,\n",
    "    balance REAL\n",
    ")\n",
    "''')\n",
    "conn.commit()"
   ]
  },
  {
   "cell_type": "code",
   "execution_count": null,
   "id": "27514888-2d22-47cb-b262-f5bb69345094",
   "metadata": {},
   "outputs": [],
   "source": [
    "def create_account(name, pin, balance):\n",
    "    cur.execute(\"INSERT INTO accounts (name, pin, balance) VALUES (?, ?, ?)\", (name, pin, balance))\n",
    "    conn.commit()\n",
    "    print(\" Account created successfully!\")\n",
    "# Example\n",
    "# create_account(\"Divyank\", \"1234\", 5000)"
   ]
  },
  {
   "cell_type": "code",
   "execution_count": 2,
   "id": "2e2a852e-7cfb-4d94-9918-10ca78f2c04f",
   "metadata": {},
   "outputs": [],
   "source": [
    "def login(acc_no, pin):\n",
    "    cur.execute(\"SELECT * FROM accounts WHERE acc_no=? AND pin=?\", (acc_no, pin))\n",
    "    user = cur.fetchone()\n",
    "    if user:\n",
    "        print(f\" Welcome {user[1]}!\")\n",
    "        return user\n",
    "    else:\n",
    "        print(\" Invalid account number or PIN.\")\n",
    "        return None"
   ]
  },
  {
   "cell_type": "code",
   "execution_count": 3,
   "id": "8345d37e-38da-471a-ab83-966be8766e80",
   "metadata": {},
   "outputs": [],
   "source": [
    "def check_balance(acc_no):\n",
    "    cur.execute(\"SELECT balance FROM accounts WHERE acc_no=?\", (acc_no,))\n",
    "    balance = cur.fetchone()[0]\n",
    "    print(f\"Current Balance: {balance}\")"
   ]
  },
  {
   "cell_type": "code",
   "execution_count": 4,
   "id": "e1d3ef5b-f90f-4582-9f01-242858be3b7d",
   "metadata": {},
   "outputs": [],
   "source": [
    "def deposit(acc_no, amount):\n",
    "    cur.execute(\"UPDATE accounts SET balance = balance + ? WHERE acc_no=?\", (amount, acc_no))\n",
    "    conn.commit()\n",
    "    print(f\" {amount} deposited successfully.\")"
   ]
  },
  {
   "cell_type": "code",
   "execution_count": 5,
   "id": "46ae2177-6cf8-40f2-8851-eda7cb260ca4",
   "metadata": {},
   "outputs": [],
   "source": [
    "def withdraw(acc_no, amount):\n",
    "    cur.execute(\"SELECT balance FROM accounts WHERE acc_no=?\", (acc_no,))\n",
    "    current_balance = cur.fetchone()[0]\n",
    "\n",
    "    if amount > current_balance:\n",
    "        print(\" Insufficient balance!\")\n",
    "    else:\n",
    "        cur.execute(\"UPDATE accounts SET balance = balance - ? WHERE acc_no=?\", (amount, acc_no))\n",
    "        conn.commit()\n",
    "        print(f\" {amount} withdrawn successfully.\")"
   ]
  },
  {
   "cell_type": "code",
   "execution_count": 6,
   "id": "e7d8520b-8827-407e-8f4a-833cc7bbb477",
   "metadata": {},
   "outputs": [],
   "source": [
    "def atm_menu():\n",
    "    print(\"===== Welcome to Python ATM =====\")\n",
    "    acc_no = int(input(\"Enter Account Number: \"))\n",
    "    pin = input(\"Enter PIN: \")\n",
    "\n",
    "    user = login(acc_no, pin)\n",
    "    if not user:\n",
    "        return\n",
    "\n",
    "    while True:\n",
    "        print(\"\\n--- Menu ---\")\n",
    "        print(\"1. Check Balance\")\n",
    "        print(\"2. Deposit\")\n",
    "        print(\"3. Withdraw\")\n",
    "        print(\"4. Exit\")\n",
    "        choice = input(\"Enter your choice: \")\n",
    "\n",
    "        if choice == '1':\n",
    "            check_balance(acc_no)\n",
    "        elif choice == '2':\n",
    "            amt = float(input(\"Enter amount to deposit: \"))\n",
    "            deposit(acc_no, amt)\n",
    "        elif choice == '3':\n",
    "            amt = float(input(\"Enter amount to withdraw: \"))\n",
    "            withdraw(acc_no, amt)\n",
    "        elif choice == '4':\n",
    "            print(\" Thank you for using the ATM. Bye!\")\n",
    "            break\n",
    "        else:\n",
    "            print(\"Invalid choice.\")\n"
   ]
  },
  {
   "cell_type": "code",
   "execution_count": 9,
   "id": "287e7f8c-1b90-49b1-bbd3-f1421c89a518",
   "metadata": {},
   "outputs": [
    {
     "name": "stdout",
     "output_type": "stream",
     "text": [
      "===== Welcome to Python ATM =====\n"
     ]
    },
    {
     "name": "stdin",
     "output_type": "stream",
     "text": [
      "Enter Account Number:  6543211879\n",
      "Enter PIN:  5643\n"
     ]
    },
    {
     "ename": "ProgrammingError",
     "evalue": "Cannot operate on a closed database.",
     "output_type": "error",
     "traceback": [
      "\u001b[1;31m---------------------------------------------------------------------------\u001b[0m",
      "\u001b[1;31mProgrammingError\u001b[0m                          Traceback (most recent call last)",
      "Cell \u001b[1;32mIn[9], line 1\u001b[0m\n\u001b[1;32m----> 1\u001b[0m atm_menu()\n\u001b[0;32m      2\u001b[0m conn\u001b[38;5;241m.\u001b[39mclose()\n",
      "Cell \u001b[1;32mIn[6], line 6\u001b[0m, in \u001b[0;36matm_menu\u001b[1;34m()\u001b[0m\n\u001b[0;32m      3\u001b[0m acc_no \u001b[38;5;241m=\u001b[39m \u001b[38;5;28mint\u001b[39m(\u001b[38;5;28minput\u001b[39m(\u001b[38;5;124m\"\u001b[39m\u001b[38;5;124mEnter Account Number: \u001b[39m\u001b[38;5;124m\"\u001b[39m))\n\u001b[0;32m      4\u001b[0m pin \u001b[38;5;241m=\u001b[39m \u001b[38;5;28minput\u001b[39m(\u001b[38;5;124m\"\u001b[39m\u001b[38;5;124mEnter PIN: \u001b[39m\u001b[38;5;124m\"\u001b[39m)\n\u001b[1;32m----> 6\u001b[0m user \u001b[38;5;241m=\u001b[39m login(acc_no, pin)\n\u001b[0;32m      7\u001b[0m \u001b[38;5;28;01mif\u001b[39;00m \u001b[38;5;129;01mnot\u001b[39;00m user:\n\u001b[0;32m      8\u001b[0m     \u001b[38;5;28;01mreturn\u001b[39;00m\n",
      "Cell \u001b[1;32mIn[2], line 2\u001b[0m, in \u001b[0;36mlogin\u001b[1;34m(acc_no, pin)\u001b[0m\n\u001b[0;32m      1\u001b[0m \u001b[38;5;28;01mdef\u001b[39;00m\u001b[38;5;250m \u001b[39m\u001b[38;5;21mlogin\u001b[39m(acc_no, pin):\n\u001b[1;32m----> 2\u001b[0m     cur\u001b[38;5;241m.\u001b[39mexecute(\u001b[38;5;124m\"\u001b[39m\u001b[38;5;124mSELECT * FROM accounts WHERE acc_no=? AND pin=?\u001b[39m\u001b[38;5;124m\"\u001b[39m, (acc_no, pin))\n\u001b[0;32m      3\u001b[0m     user \u001b[38;5;241m=\u001b[39m cur\u001b[38;5;241m.\u001b[39mfetchone()\n\u001b[0;32m      4\u001b[0m     \u001b[38;5;28;01mif\u001b[39;00m user:\n",
      "\u001b[1;31mProgrammingError\u001b[0m: Cannot operate on a closed database."
     ]
    }
   ],
   "source": [
    "atm_menu()\n",
    "conn.close()\n"
   ]
  },
  {
   "cell_type": "code",
   "execution_count": 1,
   "id": "2034b517-6242-4e0d-8a4a-16554efa5b17",
   "metadata": {},
   "outputs": [],
   "source": [
    "#Bill Management System"
   ]
  },
  {
   "cell_type": "code",
   "execution_count": 2,
   "id": "fdb92df8-503b-497f-a57a-5806e1cfe20a",
   "metadata": {},
   "outputs": [],
   "source": [
    "import sqlite3\n",
    "conn=sqlite3.connect('bill.db')\n",
    "cur=conn.cursor()\n",
    "cur.execute('''\n",
    "create table if not EXISTS Bill (\n",
    "    Bill_No integer primary key autoincrement,\n",
    "    Biller_Name text,\n",
    "    Product_Name text,\n",
    "    Contact_No integer,\n",
    "    Amount real\n",
    ")\n",
    "''')\n",
    "conn.commit()"
   ]
  },
  {
   "cell_type": "code",
   "execution_count": 3,
   "id": "0b55360d-98a0-4b81-a494-033533fd295b",
   "metadata": {},
   "outputs": [],
   "source": [
    "def create_bill(Biller_Name,Product_Name,Contact_No,Amount):\n",
    "    cur.execute(\"Insert into bill(Biller_Name,Product_Name,Contact_No,Amount) values(?,?,?,?)\",(Biller_Name,Product_Name,Contact_No,Amount))\n",
    "    conn.commit\n",
    "    print(\"BILL CREATED SUCCESSFULLY\")"
   ]
  },
  {
   "cell_type": "code",
   "execution_count": 4,
   "id": "35343c97-8cde-4110-bd06-4d3a16af83c6",
   "metadata": {},
   "outputs": [],
   "source": [
    "def update_bill(Bill_No,New_Biller_Name,New_Product_Name,New_Contact_No,New_Amount):\n",
    "    cur.execute(\"Update bill set Biller_Name=?,Product_Name=?,Contact_No=?,Amount=? where Bill_No=?\",(New_Biller_Name,New_Product_Name,New_Contact_No,New_Amount,Bill_No))\n",
    "    conn.commit()\n",
    "    print(\"BILL UPDATED SUCCESSFULLY\")"
   ]
  },
  {
   "cell_type": "code",
   "execution_count": 5,
   "id": "dbb710bd-1801-48ee-b685-ed3cc4521679",
   "metadata": {},
   "outputs": [],
   "source": [
    "def fetch_bill():\n",
    "    cur.execute(\"Select * from bill\")\n",
    "    rows=cur.fetchall()\n",
    "    for row in rows:\n",
    "        print(row)"
   ]
  },
  {
   "cell_type": "code",
   "execution_count": 6,
   "id": "ebdc33b8-3e95-4153-a0b3-55e9ce861eee",
   "metadata": {},
   "outputs": [],
   "source": [
    "def delete_bill(Bill_No):\n",
    "    cur.execute(\"Delete from bill where Bill_No=?\",(Bill_No,))\n",
    "    conn.commit\n",
    "    print(\"DELETED SUCCESSFULLY\")"
   ]
  },
  {
   "cell_type": "code",
   "execution_count": 7,
   "id": "fab4fd8c-03d2-4ad1-a42e-8c9081a5adb6",
   "metadata": {},
   "outputs": [
    {
     "name": "stdout",
     "output_type": "stream",
     "text": [
      "***BILL MENU***\n",
      "\n",
      "--- Menu ---\n",
      "1. Create Bill\n",
      "2. Update Bill\n",
      "3. View Bill\n",
      "4. Delete Bill\n",
      "5. Exit\n"
     ]
    },
    {
     "name": "stdin",
     "output_type": "stream",
     "text": [
      "Enter your choice:  3\n"
     ]
    },
    {
     "name": "stdout",
     "output_type": "stream",
     "text": [
      "\n",
      "--- Menu ---\n",
      "1. Create Bill\n",
      "2. Update Bill\n",
      "3. View Bill\n",
      "4. Delete Bill\n",
      "5. Exit\n"
     ]
    },
    {
     "name": "stdin",
     "output_type": "stream",
     "text": [
      "Enter your choice:  1\n",
      "Enter Biller Name: Sukhleen\n",
      "Enter Product Name: Ice cream\n",
      "Enter Contact: 9810444675\n",
      "Enter Amount: 50\n"
     ]
    },
    {
     "name": "stdout",
     "output_type": "stream",
     "text": [
      "BILL CREATED SUCCESSFULLY\n",
      "\n",
      "--- Menu ---\n",
      "1. Create Bill\n",
      "2. Update Bill\n",
      "3. View Bill\n",
      "4. Delete Bill\n",
      "5. Exit\n"
     ]
    },
    {
     "name": "stdin",
     "output_type": "stream",
     "text": [
      "Enter your choice:  3\n"
     ]
    },
    {
     "name": "stdout",
     "output_type": "stream",
     "text": [
      "(1, 'Sukhleen', 'Ice cream', 9810444675, 50.0)\n",
      "\n",
      "--- Menu ---\n",
      "1. Create Bill\n",
      "2. Update Bill\n",
      "3. View Bill\n",
      "4. Delete Bill\n",
      "5. Exit\n"
     ]
    },
    {
     "name": "stdin",
     "output_type": "stream",
     "text": [
      "Enter your choice:  5\n"
     ]
    },
    {
     "name": "stdout",
     "output_type": "stream",
     "text": [
      " Thank you for using the Billing System. Bye!\n",
      "DATABASE CONNECTION CLOSED\n"
     ]
    }
   ],
   "source": [
    "def bill_menu():\n",
    "    print(\"***BILL MENU***\")\n",
    "    while True:\n",
    "        print(\"\\n--- Menu ---\")\n",
    "        print(\"1. Create Bill\")\n",
    "        print(\"2. Update Bill\")\n",
    "        print(\"3. View Bill\")\n",
    "        print(\"4. Delete Bill\")\n",
    "        print(\"5. Exit\")\n",
    "        choice=input(\"Enter your choice: \")\n",
    "        if choice=='1':\n",
    "            Biller_Name=input(\"Enter Biller Name:\")\n",
    "            Product_Name=input(\"Enter Product Name:\")\n",
    "            Contact_No=input(\"Enter Contact:\")\n",
    "            Amount=float(input(\"Enter Amount:\"))\n",
    "            create_bill(Biller_Name,Product_Name,Contact_No,Amount)\n",
    "        elif choice=='2':\n",
    "            Bill_No=input(\"Enter Bill Number:\")\n",
    "            New_Biller_Name=input(\"Enter new Biller Name:\")\n",
    "            New_Product_Name=input(\"Enter new Product Name:\")\n",
    "            New_Contact_No=input(\"Enter new Contact:\")\n",
    "            New_Amount=float(input(\"Enter new Amount:\"))\n",
    "            update_bill(Bill_No,New_Biller_Name,New_Product_Name,New_Contact_No,New_Amount)\n",
    "        elif choice == '3':\n",
    "            fetch_bill()\n",
    "        elif choice == '4':\n",
    "            Bill_No=int(input(\"Enter Bill No to Delete\"))\n",
    "            delete_bill(Bill_No)\n",
    "        elif choice == '5':\n",
    "            print(\" Thank you for using the Billing System. Bye!\")\n",
    "            break\n",
    "        else:\n",
    "            print(\"Invalid choice.\")\n",
    "    conn.close()\n",
    "    print(\"DATABASE CONNECTION CLOSED\")\n",
    "bill_menu()"
   ]
  },
  {
   "cell_type": "code",
   "execution_count": null,
   "id": "3aec2fde-f887-4905-82ad-e8f13dd9a3f8",
   "metadata": {},
   "outputs": [],
   "source": []
  }
 ],
 "metadata": {
  "kernelspec": {
   "display_name": "Python [conda env:base] *",
   "language": "python",
   "name": "conda-base-py"
  },
  "language_info": {
   "codemirror_mode": {
    "name": "ipython",
    "version": 3
   },
   "file_extension": ".py",
   "mimetype": "text/x-python",
   "name": "python",
   "nbconvert_exporter": "python",
   "pygments_lexer": "ipython3",
   "version": "3.13.5"
  }
 },
 "nbformat": 4,
 "nbformat_minor": 5
}
