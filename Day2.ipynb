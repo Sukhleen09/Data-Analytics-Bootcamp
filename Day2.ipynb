{
 "cells": [
  {
   "cell_type": "code",
   "execution_count": 1,
   "id": "3469c731-9da9-4b38-a061-4a8221ec54bc",
   "metadata": {},
   "outputs": [
    {
     "name": "stdout",
     "output_type": "stream",
     "text": [
      "<class 'float'>\n"
     ]
    }
   ],
   "source": [
    "x=10\n",
    "y=float(x)\n",
    "print(type(y))"
   ]
  },
  {
   "cell_type": "code",
   "execution_count": 2,
   "id": "64e76078-c7de-4acd-b304-8b953dc397b2",
   "metadata": {},
   "outputs": [
    {
     "name": "stdout",
     "output_type": "stream",
     "text": [
      "<class 'float'>\n"
     ]
    }
   ],
   "source": [
    "x=10\n",
    "y=10.5\n",
    "print(type(x+y))"
   ]
  },
  {
   "cell_type": "code",
   "execution_count": 3,
   "id": "e8f54336-407f-4641-ba7b-eae133fee9af",
   "metadata": {},
   "outputs": [
    {
     "name": "stdin",
     "output_type": "stream",
     "text": [
      "Enter the name of the product: chocolate\n",
      "Enter quantity: 25\n",
      "Enter price: 70.6\n"
     ]
    },
    {
     "name": "stdout",
     "output_type": "stream",
     "text": [
      "1764.9999999999998\n"
     ]
    }
   ],
   "source": [
    "product_name=str(input(\"Enter the name of the product:\"))\n",
    "quantity=int(input(\"Enter quantity:\"))\n",
    "price=float(input(\"Enter price:\"))\n",
    "amount=quantity*price\n",
    "print(amount)\n"
   ]
  },
  {
   "cell_type": "code",
   "execution_count": 7,
   "id": "248dff96-63ed-488c-9d1f-7e438862936b",
   "metadata": {},
   "outputs": [
    {
     "name": "stdout",
     "output_type": "stream",
     "text": [
      "hello\n"
     ]
    }
   ],
   "source": [
    "a=10\n",
    "if a>6:\n",
    "    print(\"hello\")"
   ]
  },
  {
   "cell_type": "code",
   "execution_count": 8,
   "id": "6571241e-98d3-4ef4-8657-bcee24ac56cc",
   "metadata": {},
   "outputs": [
    {
     "name": "stdout",
     "output_type": "stream",
     "text": [
      "bye\n"
     ]
    }
   ],
   "source": [
    "a=10\n",
    "if a>13:\n",
    "    print(\"hello\")\n",
    "else:\n",
    "    print(\"bye\")"
   ]
  },
  {
   "cell_type": "code",
   "execution_count": 13,
   "id": "14db694c-9e4d-44a7-95be-fc2fb98fc937",
   "metadata": {},
   "outputs": [
    {
     "name": "stdin",
     "output_type": "stream",
     "text": [
      "Enter month: july\n"
     ]
    },
    {
     "name": "stdout",
     "output_type": "stream",
     "text": [
      "invalid month\n"
     ]
    }
   ],
   "source": [
    "month=str(input(\"Enter month:\"))\n",
    "month=[\"jan\",\"feb\",\"march\",\"april\",\"may\",\"june\",\"july\",\"august\",\"sept\",\"oct\",\"nov\",\"dec\"]\n",
    "if month==\"dec\":\n",
    "    if month==\"jan\":\n",
    "        if month==\"feb\":\n",
    "            print(\"Winter\")\n",
    "if month==\"march\":\n",
    "    if month==\"april\":\n",
    "        if month==\"may\":\n",
    "            print(\"Summer\")\n",
    "if month==\"june\":\n",
    "    if month==\"july\":\n",
    "        if month==\"august\":\n",
    "            print(\"Monsoon\")\n",
    "if month==\"sept\":\n",
    "    if month==\"oct\":\n",
    "        if month==\"nov\":\n",
    "            print(\"Autumn\")\n",
    "else:\n",
    "    print(\"invalid month\")"
   ]
  },
  {
   "cell_type": "code",
   "execution_count": null,
   "id": "e81e4360-1200-4ee4-8795-ce3d59b5cf86",
   "metadata": {},
   "outputs": [],
   "source": []
  }
 ],
 "metadata": {
  "kernelspec": {
   "display_name": "Python [conda env:base] *",
   "language": "python",
   "name": "conda-base-py"
  },
  "language_info": {
   "codemirror_mode": {
    "name": "ipython",
    "version": 3
   },
   "file_extension": ".py",
   "mimetype": "text/x-python",
   "name": "python",
   "nbconvert_exporter": "python",
   "pygments_lexer": "ipython3",
   "version": "3.13.5"
  }
 },
 "nbformat": 4,
 "nbformat_minor": 5
}
