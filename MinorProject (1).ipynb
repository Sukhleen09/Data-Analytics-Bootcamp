{
 "cells": [
  {
   "cell_type": "code",
   "execution_count": null,
   "id": "799b54e0-2a5c-4645-aa9f-dc2dd21d90d4",
   "metadata": {},
   "outputs": [],
   "source": [
    "Minor Project: Password checker "
   ]
  },
  {
   "cell_type": "code",
   "execution_count": 1,
   "id": "8c92f4d2-1d2b-475c-8c6c-18eb6aaa7693",
   "metadata": {},
   "outputs": [
    {
     "name": "stdin",
     "output_type": "stream",
     "text": [
      "Enter password: sukh122\n"
     ]
    },
    {
     "name": "stdout",
     "output_type": "stream",
     "text": [
      "wrong password!3 attempts left\n"
     ]
    },
    {
     "name": "stdin",
     "output_type": "stream",
     "text": [
      "Enter password: sukh1220\n"
     ]
    },
    {
     "name": "stdout",
     "output_type": "stream",
     "text": [
      "Access granted\n"
     ]
    }
   ],
   "source": [
    "#using for loop\n",
    "password=\"sukh1220\"\n",
    "attempts=3\n",
    "for i in range(1,4):\n",
    "    user_input=input(\"Enter password:\")\n",
    "    if user_input==password:\n",
    "       print(\"Access granted\")\n",
    "       break\n",
    "    else:\n",
    "        print(f\"wrong password!{attempts} attempts left\")\n",
    "    "
   ]
  },
  {
   "cell_type": "code",
   "execution_count": null,
   "id": "9ec8ca87-ef17-428a-888e-289454c4e354",
   "metadata": {},
   "outputs": [
    {
     "name": "stdin",
     "output_type": "stream",
     "text": [
      "Enter password: sukh125\n"
     ]
    },
    {
     "name": "stdout",
     "output_type": "stream",
     "text": [
      "Wrong password!2 attempts left.\n"
     ]
    },
    {
     "name": "stdin",
     "output_type": "stream",
     "text": [
      "Enter password: sukh121\n"
     ]
    },
    {
     "name": "stdout",
     "output_type": "stream",
     "text": [
      "Wrong password!1 attempts left.\n"
     ]
    }
   ],
   "source": [
    "#using while loop\n",
    "password=\"sukh1220\"\n",
    "attempts=3\n",
    "while attempts>0:\n",
    "    user_input=input(\"Enter password:\")\n",
    "    if user_input==password:\n",
    "        print(\"Access granted\")\n",
    "        break\n",
    "    else:\n",
    "        attempts-=1suk\n",
    "        print(f\"Wrong password!{attempts} attempts left.\")"
   ]
  },
  {
   "cell_type": "code",
   "execution_count": null,
   "id": "1a7fa208-4857-4ccd-b495-38c6cbb62de9",
   "metadata": {},
   "outputs": [],
   "source": []
  }
 ],
 "metadata": {
  "kernelspec": {
   "display_name": "Python [conda env:base] *",
   "language": "python",
   "name": "conda-base-py"
  },
  "language_info": {
   "codemirror_mode": {
    "name": "ipython",
    "version": 3
   },
   "file_extension": ".py",
   "mimetype": "text/x-python",
   "name": "python",
   "nbconvert_exporter": "python",
   "pygments_lexer": "ipython3",
   "version": "3.13.5"
  }
 },
 "nbformat": 4,
 "nbformat_minor": 5
}
