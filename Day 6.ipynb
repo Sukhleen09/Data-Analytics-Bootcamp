{
 "cells": [
  {
   "cell_type": "code",
   "execution_count": null,
   "id": "f03413f0-3f98-4117-9b69-792d7b8e55e2",
   "metadata": {},
   "outputs": [],
   "source": [
    "String methods"
   ]
  },
  {
   "cell_type": "code",
   "execution_count": 1,
   "id": "fd69dc9f-3a59-4758-b353-ab85d72ddc73",
   "metadata": {},
   "outputs": [
    {
     "name": "stdout",
     "output_type": "stream",
     "text": [
      "Hello world\n"
     ]
    }
   ],
   "source": [
    "s=\"hello world\"\n",
    "print(s.capitalize())"
   ]
  },
  {
   "cell_type": "code",
   "execution_count": 2,
   "id": "62d455ca-6f52-4e86-9c51-4eae8d95b086",
   "metadata": {},
   "outputs": [
    {
     "name": "stdout",
     "output_type": "stream",
     "text": [
      "HELLO WORLD\n"
     ]
    }
   ],
   "source": [
    "print(s.upper())"
   ]
  },
  {
   "cell_type": "code",
   "execution_count": 3,
   "id": "cbc329d0-aa61-48ac-865f-ed3ca5343a06",
   "metadata": {},
   "outputs": [
    {
     "name": "stdout",
     "output_type": "stream",
     "text": [
      "hello world\n"
     ]
    }
   ],
   "source": [
    "s=\"HELLO WORLD\"\n",
    "print(s.lower())"
   ]
  },
  {
   "cell_type": "code",
   "execution_count": 4,
   "id": "77c1ca6e-b004-41c7-a4d6-0caa4a691f45",
   "metadata": {},
   "outputs": [
    {
     "name": "stdout",
     "output_type": "stream",
     "text": [
      "HelLo\n"
     ]
    }
   ],
   "source": [
    "s=\"hELlO\"\n",
    "print(s.swapcase())"
   ]
  },
  {
   "cell_type": "code",
   "execution_count": 6,
   "id": "d4ecfb9b-0cf9-4178-86e5-3cd31398abfd",
   "metadata": {},
   "outputs": [
    {
     "name": "stdout",
     "output_type": "stream",
     "text": [
      "hello\n",
      "hello    \n",
      "   hello\n"
     ]
    }
   ],
   "source": [
    "s=\"   hello    \"\n",
    "print(s.strip())\n",
    "print(s.lstrip())\n",
    "print(s.rstrip())"
   ]
  },
  {
   "cell_type": "code",
   "execution_count": 7,
   "id": "8fc53f35-7060-4eb9-9b65-3bdefd0b9628",
   "metadata": {},
   "outputs": [
    {
     "name": "stdout",
     "output_type": "stream",
     "text": [
      "hello p\n"
     ]
    }
   ],
   "source": [
    "s=\"hello world\"\n",
    "print(s.replace(\"world\",\"p\"))"
   ]
  },
  {
   "cell_type": "code",
   "execution_count": 8,
   "id": "2b6c016e-3609-4f88-a265-78d592f78ea4",
   "metadata": {},
   "outputs": [
    {
     "name": "stdout",
     "output_type": "stream",
     "text": [
      "['apple', 'banana', 'mango']\n"
     ]
    }
   ],
   "source": [
    "s=\"apple,banana,mango\"\n",
    "print(s.split(\",\"))\n"
   ]
  },
  {
   "cell_type": "code",
   "execution_count": 17,
   "id": "cc84556f-3942-43c9-8e0c-03c64dae7371",
   "metadata": {},
   "outputs": [
    {
     "name": "stdout",
     "output_type": "stream",
     "text": [
      "apple-banana-mango\n"
     ]
    }
   ],
   "source": [
    "s=[\"apple\",\"banana\",\"mango\"]\n",
    "print('-'.join(s))"
   ]
  },
  {
   "cell_type": "code",
   "execution_count": 10,
   "id": "05ba6efd-419e-4e86-bd63-2165d9ff95f7",
   "metadata": {},
   "outputs": [
    {
     "name": "stdout",
     "output_type": "stream",
     "text": [
      "6\n"
     ]
    }
   ],
   "source": [
    "s=\"hello world\"\n",
    "print(s.find(\"world\"))"
   ]
  },
  {
   "cell_type": "code",
   "execution_count": 11,
   "id": "574c1f12-fbdc-45a7-a214-8b55f2b7160d",
   "metadata": {},
   "outputs": [
    {
     "name": "stdout",
     "output_type": "stream",
     "text": [
      "1\n"
     ]
    }
   ],
   "source": [
    "s=\"hello\"\n",
    "print(s.index(\"e\"))\n"
   ]
  },
  {
   "cell_type": "code",
   "execution_count": 12,
   "id": "dbc99919-7cfd-418c-9905-b96feed3f478",
   "metadata": {},
   "outputs": [
    {
     "name": "stdout",
     "output_type": "stream",
     "text": [
      "3\n"
     ]
    }
   ],
   "source": [
    "s=\"banana\"\n",
    "print(s.count(\"a\"))"
   ]
  },
  {
   "cell_type": "code",
   "execution_count": 13,
   "id": "150052e0-787e-4dfa-a8e3-645c8888a811",
   "metadata": {},
   "outputs": [
    {
     "name": "stdout",
     "output_type": "stream",
     "text": [
      "True\n"
     ]
    }
   ],
   "source": [
    "s=\"abcXYZ\"\n",
    "print(s.isalpha())"
   ]
  },
  {
   "cell_type": "code",
   "execution_count": 14,
   "id": "beb22383-5173-40c8-84ff-97a59d1d4340",
   "metadata": {},
   "outputs": [
    {
     "name": "stdout",
     "output_type": "stream",
     "text": [
      "True\n"
     ]
    }
   ],
   "source": [
    "s=\"12345\"\n",
    "print(s.isdigit())"
   ]
  },
  {
   "cell_type": "code",
   "execution_count": 18,
   "id": "a1e6bf70-9cc0-4db9-8dda-19ffa2f935fb",
   "metadata": {},
   "outputs": [
    {
     "name": "stdout",
     "output_type": "stream",
     "text": [
      "True\n"
     ]
    }
   ],
   "source": [
    "s=\"abc123\"\n",
    "print(s.isalnum())"
   ]
  },
  {
   "cell_type": "code",
   "execution_count": 22,
   "id": "9dc34720-2be8-4bb6-a51c-09b82da38887",
   "metadata": {},
   "outputs": [
    {
     "name": "stdout",
     "output_type": "stream",
     "text": [
      "My name is sukhleen and I am 20 years old.\n"
     ]
    }
   ],
   "source": [
    "name=\"sukhleen\"\n",
    "age=20\n",
    "print(\"My name is {} and I am {} years old.\".format(name,age))"
   ]
  },
  {
   "cell_type": "code",
   "execution_count": null,
   "id": "be5e3624-0796-490c-8e31-fa79567e0b88",
   "metadata": {},
   "outputs": [],
   "source": [
    "atm project(minor)"
   ]
  },
  {
   "cell_type": "code",
   "execution_count": 23,
   "id": "2a27c1e8-77ef-4872-928f-c56b96c6e835",
   "metadata": {},
   "outputs": [
    {
     "name": "stdout",
     "output_type": "stream",
     "text": [
      "If you want to deposit so type 1. And if you want to withdrawl type 0.\n"
     ]
    },
    {
     "name": "stdin",
     "output_type": "stream",
     "text": [
      " 1\n",
      " 4500\n"
     ]
    },
    {
     "name": "stdout",
     "output_type": "stream",
     "text": [
      "Total amount 14500\n"
     ]
    }
   ],
   "source": [
    "def atm():\n",
    "    total_amount = 10000\n",
    "    print(\"If you want to deposit so type 1. And if you want to withdrawal type 0.\")\n",
    "    user_input = int(input())\n",
    "    if user_input == 1:\n",
    "        deposite_amount = int(input())\n",
    "        total_amount += deposite_amount\n",
    "        print(\"Total amount\", total_amount)\n",
    "    elif user_input == 0:\n",
    "        withdrawl_amount = int(input())\n",
    "        total_amount -= withdrawl_amount\n",
    "        print(\"Total amount\", total_amount)\n",
    "    else:\n",
    "        print(\"No transection\")\n",
    "atm()"
   ]
  },
  {
   "cell_type": "code",
   "execution_count": null,
   "id": "2e3d0fe6-b76a-470c-afd6-72119ce76f91",
   "metadata": {},
   "outputs": [],
   "source": [
    "#File Handling\n",
    "file=open(\"myfile.txt\",\"r\")\n",
    "content=file.read()\n",
    "file.close()"
   ]
  },
  {
   "cell_type": "code",
   "execution_count": null,
   "id": "255c47d8-ea75-48a4-9cc6-54671b611eb6",
   "metadata": {},
   "outputs": [],
   "source": [
    "file=open(\"notes.txt\",\"w\")\n",
    "file.write(\"Python is awesome! \\n\")\n",
    "file.close()"
   ]
  },
  {
   "cell_type": "code",
   "execution_count": null,
   "id": "a8546669-e93a-4b49-a6c7-61b121521535",
   "metadata": {},
   "outputs": [],
   "source": [
    "file=open(\"notes.txt\",\"a\")\n",
    "file.write(\"/n This lite will be added later\")\n",
    "file.close()"
   ]
  },
  {
   "cell_type": "code",
   "execution_count": null,
   "id": "3c7ab2eb-438f-4581-aa21-5691c69e5163",
   "metadata": {},
   "outputs": [],
   "source": [
    "import os\n",
    "if os.path exists(\"data.txt\"):\n",
    "    os.remove(\"data.text\")\n",
    "    print(\"file detected\")\n",
    "else:\n",
    "    print(\"file doesnot exists\")"
   ]
  },
  {
   "cell_type": "code",
   "execution_count": null,
   "id": "280f48cb-dc0c-40a5-9c10-aa2ac7b73cb7",
   "metadata": {},
   "outputs": [],
   "source": [
    "file=open(\"newfile.txt\",\"x\")\n",
    "f.write(\"file created\")\n",
    "f.close()"
   ]
  }
 ],
 "metadata": {
  "kernelspec": {
   "display_name": "Python [conda env:base] *",
   "language": "python",
   "name": "conda-base-py"
  },
  "language_info": {
   "codemirror_mode": {
    "name": "ipython",
    "version": 3
   },
   "file_extension": ".py",
   "mimetype": "text/x-python",
   "name": "python",
   "nbconvert_exporter": "python",
   "pygments_lexer": "ipython3",
   "version": "3.13.5"
  }
 },
 "nbformat": 4,
 "nbformat_minor": 5
}
