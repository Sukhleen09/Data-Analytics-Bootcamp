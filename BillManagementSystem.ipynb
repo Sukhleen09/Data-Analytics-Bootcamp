{
 "cells": [
  {
   "cell_type": "code",
   "execution_count": 1,
   "id": "ede28c63-b2d5-425e-b151-1c88f4caf87a",
   "metadata": {},
   "outputs": [],
   "source": [
    "#Bill Management System"
   ]
  },
  {
   "cell_type": "code",
   "execution_count": 2,
   "id": "2a11a9f2-d33a-4d32-ab5b-d77e21a616fe",
   "metadata": {},
   "outputs": [],
   "source": [
    "import sqlite3\n",
    "conn=sqlite3.connect('bill.db')\n",
    "cur=conn.cursor()\n",
    "cur.execute('''\n",
    "create table if not EXISTS Bill (\n",
    "    Bill_No integer primary key autoincrement,\n",
    "    Biller_Name text,\n",
    "    Product_Name text,\n",
    "    Contact_No integer,\n",
    "    Amount real\n",
    ")\n",
    "''')\n",
    "conn.commit()"
   ]
  },
  {
   "cell_type": "code",
   "execution_count": 3,
   "id": "5f445c32-0af0-4210-b5d9-808a52012048",
   "metadata": {},
   "outputs": [],
   "source": [
    "def create_bill(Biller_Name,Product_Name,Contact_No,Amount):\n",
    "    cur.execute(\"Insert into bill(Biller_Name,Product_Name,Contact_No,Amount) values(?,?,?,?)\",(Biller_Name,Product_Name,Contact_No,Amount))\n",
    "    conn.commit\n",
    "    print(\"BILL CREATED SUCCESSFULLY\")"
   ]
  },
  {
   "cell_type": "code",
   "execution_count": 4,
   "id": "fb8b3ec0-970b-4ad6-9a71-ec6c45c7bbc8",
   "metadata": {},
   "outputs": [],
   "source": [
    "def update_bill(Bill_No,New_Biller_Name,New_Product_Name,New_Contact_No,New_Amount):\n",
    "    cur.execute(\"Update bill set Biller_Name=?,Product_Name=?,Contact_No=?,Amount=? where Bill_No=?\",(New_Biller_Name,New_Product_Name,New_Contact_No,New_Amount,Bill_No))\n",
    "    conn.commit()\n",
    "    print(\"BILL UPDATED SUCCESSFULLY\")"
   ]
  },
  {
   "cell_type": "code",
   "execution_count": 5,
   "id": "3701c23f-a5bb-413a-9524-72ab5408329f",
   "metadata": {},
   "outputs": [],
   "source": [
    "def fetch_bill():\n",
    "    cur.execute(\"Select * from bill\")\n",
    "    rows=cur.fetchall()\n",
    "    for row in rows:\n",
    "        print(row)"
   ]
  },
  {
   "cell_type": "code",
   "execution_count": 6,
   "id": "27277263-a5ec-4deb-82fb-9b00f3f0e441",
   "metadata": {},
   "outputs": [],
   "source": [
    "def delete_bill(Bill_No):\n",
    "    cur.execute(\"Delete from bill where Bill_No=?\",(Bill_No,))\n",
    "    conn.commit\n",
    "    print(\"DELETED SUCCESSFULLY\")"
   ]
  },
  {
   "cell_type": "code",
   "execution_count": null,
   "id": "f92431cb-51d8-4de1-8b96-a7e653d5e4c1",
   "metadata": {},
   "outputs": [
    {
     "name": "stdout",
     "output_type": "stream",
     "text": [
      "***BILL MENU***\n",
      "\n",
      "--- Menu ---\n",
      "1. Create Bill\n",
      "2. Update Bill\n",
      "3. View Bill\n",
      "4. Delete Bill\n",
      "5. Exit\n"
     ]
    }
   ],
   "source": [
    "def bill_menu():\n",
    "    print(\"***BILL MENU***\")\n",
    "    while True:\n",
    "        print(\"\\n--- Menu ---\")\n",
    "        print(\"1. Create Bill\")\n",
    "        print(\"2. Update Bill\")\n",
    "        print(\"3. View Bill\")\n",
    "        print(\"4. Delete Bill\")\n",
    "        print(\"5. Exit\")\n",
    "        choice=input(\"Enter your choice: \")\n",
    "        if choice=='1':\n",
    "            Biller_Name=input(\"Enter Biller Name:\")\n",
    "            Product_Name=input(\"Enter Product Name:\")\n",
    "            Contact_No=input(\"Enter Contact:\")\n",
    "            Amount=float(input(\"Enter Amount:\"))\n",
    "            create_bill(Biller_Name,Product_Name,Contact_No,Amount)\n",
    "        elif choice=='2':\n",
    "            Bill_No=input(\"Enter Bill Number:\")\n",
    "            New_Biller_Name=input(\"Enter new Biller Name:\")\n",
    "            New_Product_Name=input(\"Enter new Product Name:\")\n",
    "            New_Contact_No=input(\"Enter new Contact:\")\n",
    "            New_Amount=float(input(\"Enter new Amount:\"))\n",
    "            update_bill(Bill_No,New_Biller_Name,New_Product_Name,New_Contact_No,New_Amount)\n",
    "        elif choice == '3':\n",
    "            fetch_bill()\n",
    "        elif choice == '4':\n",
    "            Bill_No=int(input(\"Enter Bill No to Delete\"))\n",
    "            delete_bill(Bill_No)\n",
    "        elif choice == '5':\n",
    "            print(\" Thank you for using the Billing System. Bye!\")\n",
    "            break\n",
    "        else:\n",
    "            print(\"Invalid choice.\")\n",
    "    conn.close()\n",
    "    print(\"DATABASE CONNECTION CLOSED\")\n",
    "bill_menu()"
   ]
  },
  {
   "cell_type": "code",
   "execution_count": null,
   "id": "0a3d610c-635b-455b-9997-47971feed111",
   "metadata": {},
   "outputs": [],
   "source": []
  }
 ],
 "metadata": {
  "kernelspec": {
   "display_name": "Python [conda env:base] *",
   "language": "python",
   "name": "conda-base-py"
  },
  "language_info": {
   "codemirror_mode": {
    "name": "ipython",
    "version": 3
   },
   "file_extension": ".py",
   "mimetype": "text/x-python",
   "name": "python",
   "nbconvert_exporter": "python",
   "pygments_lexer": "ipython3",
   "version": "3.13.5"
  }
 },
 "nbformat": 4,
 "nbformat_minor": 5
}
