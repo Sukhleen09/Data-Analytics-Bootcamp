{
 "cells": [
  {
   "cell_type": "code",
   "execution_count": null,
   "id": "39c115f1-4487-41f8-b269-119410522199",
   "metadata": {},
   "outputs": [],
   "source": [
    "1)While loop:"
   ]
  },
  {
   "cell_type": "code",
   "execution_count": 4,
   "id": "b999fc4e-fc8c-484d-a508-60376a7b0fa8",
   "metadata": {},
   "outputs": [
    {
     "name": "stdin",
     "output_type": "stream",
     "text": [
      "Enter a number: 4\n"
     ]
    },
    {
     "name": "stdout",
     "output_type": "stream",
     "text": [
      "4*1=4\n",
      "4*2=8\n",
      "4*3=12\n",
      "4*4=16\n",
      "4*5=20\n",
      "4*6=24\n",
      "4*7=28\n",
      "4*8=32\n",
      "4*9=36\n",
      "4*10=40\n"
     ]
    }
   ],
   "source": [
    "num=int(input(\"Enter a number:\"))\n",
    "i=1\n",
    "while i<=10:\n",
    "    print(f\"{num}*{i}={num*i}\")\n",
    "    i+=1"
   ]
  },
  {
   "cell_type": "code",
   "execution_count": 3,
   "id": "73d49baa-b734-4f13-aad8-83e1cc93c3ee",
   "metadata": {},
   "outputs": [
    {
     "name": "stdin",
     "output_type": "stream",
     "text": [
      "Enter a letter: a\n"
     ]
    },
    {
     "name": "stdout",
     "output_type": "stream",
     "text": [
      "You typed: a\n"
     ]
    },
    {
     "name": "stdin",
     "output_type": "stream",
     "text": [
      "Enter a letter: q\n"
     ]
    },
    {
     "name": "stdout",
     "output_type": "stream",
     "text": [
      "Exited loop\n"
     ]
    }
   ],
   "source": [
    "while True:\n",
    "    letter=str(input(\"Enter a letter:\"))\n",
    "    if letter=='q':\n",
    "        print(\"Exited loop\")\n",
    "        break\n",
    "    else:\n",
    "        print(\"You typed:\",letter)"
   ]
  },
  {
   "cell_type": "code",
   "execution_count": 6,
   "id": "bc004f88-6580-4959-88b0-8109c5831d67",
   "metadata": {},
   "outputs": [
    {
     "name": "stdin",
     "output_type": "stream",
     "text": [
      "Enter password: sukh122\n"
     ]
    },
    {
     "name": "stdout",
     "output_type": "stream",
     "text": [
      "Wrong password!{attempts}attempts left\n"
     ]
    },
    {
     "name": "stdin",
     "output_type": "stream",
     "text": [
      "Enter password: sukh1220\n"
     ]
    },
    {
     "name": "stdout",
     "output_type": "stream",
     "text": [
      "Access granted\n"
     ]
    }
   ],
   "source": [
    "password=\"sukh1220\"\n",
    "attempts=3\n",
    "while attempts>0:\n",
    "    user_input=input(\"Enter password:\")\n",
    "    if user_input==password:\n",
    "        print(\"Access granted\")\n",
    "        break\n",
    "    else:\n",
    "        attempts-=1\n",
    "        print(\"Wrong password!{attempts}attempts left.\")"
   ]
  },
  {
   "cell_type": "code",
   "execution_count": 9,
   "id": "68c18ad4-b6c5-4f9f-8dd4-ea67d63db86c",
   "metadata": {},
   "outputs": [
    {
     "name": "stdin",
     "output_type": "stream",
     "text": [
      "enter number between 1-100 28\n"
     ]
    },
    {
     "name": "stdout",
     "output_type": "stream",
     "text": [
      "Divisible by 7\n"
     ]
    }
   ],
   "source": [
    "number=int(input(\"enter number between 1-100\"))\n",
    "while number<=100 and number>=1:\n",
    "    if number%7==0:\n",
    "        print(\"Divisible by 7\")\n",
    "        break\n",
    "    else:\n",
    "        print(number,\"not divisible by 7\")\n",
    "        break"
   ]
  },
  {
   "cell_type": "code",
   "execution_count": null,
   "id": "a3c4e427-6905-4e32-ac47-eb324c5bc69e",
   "metadata": {},
   "outputs": [],
   "source": [
    "2)For Loop"
   ]
  },
  {
   "cell_type": "code",
   "execution_count": 10,
   "id": "74d7a86c-aec1-4134-9e7e-c94d791668e4",
   "metadata": {},
   "outputs": [
    {
     "name": "stdin",
     "output_type": "stream",
     "text": [
      "Enter a number: 5\n"
     ]
    },
    {
     "name": "stdout",
     "output_type": "stream",
     "text": [
      "5 * 1 = 5\n",
      "5 * 2 = 10\n",
      "5 * 3 = 15\n",
      "5 * 4 = 20\n",
      "5 * 5 = 25\n",
      "5 * 6 = 30\n",
      "5 * 7 = 35\n",
      "5 * 8 = 40\n",
      "5 * 9 = 45\n",
      "5 * 10 = 50\n"
     ]
    }
   ],
   "source": [
    "num=int(input(\"Enter a number:\"))\n",
    "for i in range(1,11):\n",
    "    print(f\"{num} * {i} = {num*i}\")"
   ]
  },
  {
   "cell_type": "code",
   "execution_count": 12,
   "id": "6f613314-0b69-4adc-8d7f-b93e709c5e9d",
   "metadata": {},
   "outputs": [
    {
     "name": "stdin",
     "output_type": "stream",
     "text": [
      "Enter password: sukh12\n"
     ]
    },
    {
     "name": "stdout",
     "output_type": "stream",
     "text": [
      "wrong password!\n"
     ]
    },
    {
     "name": "stdin",
     "output_type": "stream",
     "text": [
      "Enter password: sukh1220\n"
     ]
    },
    {
     "name": "stdout",
     "output_type": "stream",
     "text": [
      "Access granted\n"
     ]
    }
   ],
   "source": [
    "password=\"sukh1220\"\n",
    "attempts=3\n",
    "for i in range(1,4):\n",
    "    user_input=input(\"Enter password:\")\n",
    "    if user_input==password:\n",
    "       print(\"Access granted\")\n",
    "       break\n",
    "    else:\n",
    "        print(\"wrong password!\")\n",
    "    "
   ]
  },
  {
   "cell_type": "code",
   "execution_count": 13,
   "id": "dbf01972-d79f-4bf1-a095-ce9c5f7b85a5",
   "metadata": {},
   "outputs": [
    {
     "name": "stdout",
     "output_type": "stream",
     "text": [
      "1\n",
      "2\n",
      "4\n",
      "5\n"
     ]
    }
   ],
   "source": [
    "#continue\n",
    "for i in range(1,6):\n",
    "    if i==3:\n",
    "        continue\n",
    "    print(i)"
   ]
  },
  {
   "cell_type": "code",
   "execution_count": 14,
   "id": "5b0870b3-77e9-4656-b268-856ba3c28e38",
   "metadata": {},
   "outputs": [
    {
     "name": "stdout",
     "output_type": "stream",
     "text": [
      "1\n",
      "2\n",
      "3\n",
      "4\n",
      "6\n",
      "7\n"
     ]
    }
   ],
   "source": [
    "for i in range(1,11):\n",
    "    if i==5:\n",
    "        continue\n",
    "    if i==8:\n",
    "        break\n",
    "    print(i)"
   ]
  },
  {
   "cell_type": "code",
   "execution_count": 17,
   "id": "edb9fced-0b8d-4cac-ba35-de12bbdc69e6",
   "metadata": {},
   "outputs": [
    {
     "name": "stdin",
     "output_type": "stream",
     "text": [
      "Enter password: 567\n"
     ]
    },
    {
     "name": "stdout",
     "output_type": "stream",
     "text": [
      "wrong password 4 attempts left.\n"
     ]
    },
    {
     "name": "stdin",
     "output_type": "stream",
     "text": [
      "Enter password: sukh1220\n"
     ]
    },
    {
     "name": "stdout",
     "output_type": "stream",
     "text": [
      "Access granted\n"
     ]
    }
   ],
   "source": [
    "password=\"sukh1220\"\n",
    "attempts=5\n",
    "for i in range(attempts):\n",
    "    num=input(\"Enter password:\")\n",
    "    if num==\"forget\":\n",
    "        attempts-=1\n",
    "        print(f\"{attempts} attempts left.\")\n",
    "        continue\n",
    "    if num==password:\n",
    "        print(\"Access granted\")\n",
    "        break\n",
    "    else:\n",
    "        attempts-=1\n",
    "        print(f\"wrong password {attempts} attempts left.\")"
   ]
  },
  {
   "cell_type": "code",
   "execution_count": 21,
   "id": "b544f228-b496-46b7-a9fb-08a6394055b8",
   "metadata": {},
   "outputs": [
    {
     "name": "stdout",
     "output_type": "stream",
     "text": [
      "P\n",
      "y\n",
      "t\n",
      "h\n"
     ]
    }
   ],
   "source": [
    "strg=\"Python\"\n",
    "for i in range(len(strg)):\n",
    "  if strg[i]==\"o\":\n",
    "      continue\n",
    "  if strg[i]==\"n\":\n",
    "      break\n",
    "  print(strg[i])"
   ]
  },
  {
   "cell_type": "code",
   "execution_count": null,
   "id": "4fdee512-2c7b-4bc6-bac0-e9b4dad12b3c",
   "metadata": {},
   "outputs": [],
   "source": []
  }
 ],
 "metadata": {
  "kernelspec": {
   "display_name": "Python [conda env:base] *",
   "language": "python",
   "name": "conda-base-py"
  },
  "language_info": {
   "codemirror_mode": {
    "name": "ipython",
    "version": 3
   },
   "file_extension": ".py",
   "mimetype": "text/x-python",
   "name": "python",
   "nbconvert_exporter": "python",
   "pygments_lexer": "ipython3",
   "version": "3.13.5"
  }
 },
 "nbformat": 4,
 "nbformat_minor": 5
}
