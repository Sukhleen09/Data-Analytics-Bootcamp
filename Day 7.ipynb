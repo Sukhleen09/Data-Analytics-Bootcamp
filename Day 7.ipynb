{
 "cells": [
  {
   "cell_type": "code",
   "execution_count": 4,
   "id": "3d67fd0a-a0e9-4958-8c6b-cf6843ad5bbc",
   "metadata": {},
   "outputs": [],
   "source": [
    "import sqlite3\n",
    "\n",
    "conn = sqlite3.connect('sukh.db')\n",
    "\n",
    "# Creating a cursor object\n",
    "cursor = conn.cursor()\n"
   ]
  },
  {
   "cell_type": "code",
   "execution_count": 9,
   "id": "0f1592c8-e3f4-412f-8bdf-3e6c791b8cef",
   "metadata": {},
   "outputs": [
    {
     "name": "stdout",
     "output_type": "stream",
     "text": [
      "Table created successfully.\n"
     ]
    }
   ],
   "source": [
    "cursor.execute('''\n",
    "CREATE TABLE IF NOT EXISTS sukh (\n",
    "    id INTEGER PRIMARY KEY AUTOINCREMENT,\n",
    "    name TEXT NOT NULL,\n",
    "    age INTEGER,\n",
    "    grade TEXT\n",
    ")\n",
    "''')\n",
    "conn.commit()\n",
    "print(\"Table created successfully.\")\n"
   ]
  },
  {
   "cell_type": "code",
   "execution_count": 11,
   "id": "7aabbdf9-3716-4a37-b358-c1d13baf0284",
   "metadata": {},
   "outputs": [
    {
     "name": "stdout",
     "output_type": "stream",
     "text": [
      "Student inserted successfully.\n",
      "Student inserted successfully.\n"
     ]
    }
   ],
   "source": [
    "def insert_student(name, age, grade):\n",
    "    cursor.execute(\"INSERT INTO sukh (name, age, grade) VALUES (?, ?, ?)\", (name, age, grade))\n",
    "    conn.commit()\n",
    "    print(\"Student inserted successfully.\")\n",
    "\n",
    "\n",
    "insert_student('sukh', 20, 'A')\n",
    "insert_student('harshita', 22, 'B')\n"
   ]
  },
  {
   "cell_type": "code",
   "execution_count": 12,
   "id": "24b243e3-2c11-48c4-93ad-a227f3efebd3",
   "metadata": {},
   "outputs": [
    {
     "name": "stdout",
     "output_type": "stream",
     "text": [
      "(1, 'Riya', 20, 'A')\n",
      "(2, 'Divyank', 22, 'B')\n",
      "(3, 'sukh', 20, 'A')\n",
      "(4, 'harshita', 22, 'B')\n"
     ]
    }
   ],
   "source": [
    "def fetch_students():\n",
    "    cursor.execute(\"SELECT * FROM sukh\")\n",
    "    rows = cursor.fetchall()\n",
    "    for row in rows:\n",
    "        print(row)\n",
    "\n",
    "\n",
    "fetch_students()\n"
   ]
  },
  {
   "cell_type": "code",
   "execution_count": 14,
   "id": "adeac1b7-6888-4797-969b-85711cdd7668",
   "metadata": {},
   "outputs": [
    {
     "name": "stdout",
     "output_type": "stream",
     "text": [
      "Student updated successfully.\n"
     ]
    }
   ],
   "source": [
    "def update_student(student_id, new_name, new_age, new_grade):\n",
    "    cursor.execute(\"UPDATE sukh SET name=?, age=?, grade=? WHERE id=?\", (new_name, new_age, new_grade, student_id))\n",
    "    conn.commit()\n",
    "    print(\"Student updated successfully.\")\n",
    "update_student(1, 'Riya Sharma', 21, 'A+')\n"
   ]
  },
  {
   "cell_type": "code",
   "execution_count": 18,
   "id": "9ba15366-6a78-4435-ab9a-faaf9d570f0c",
   "metadata": {},
   "outputs": [
    {
     "name": "stdout",
     "output_type": "stream",
     "text": [
      "(1, 'Riya Sharma', 21, 'A+')\n",
      "(3, 'sukh', 20, 'A')\n",
      "(4, 'harshita', 22, 'B')\n"
     ]
    }
   ],
   "source": [
    "fetch_students()"
   ]
  },
  {
   "cell_type": "code",
   "execution_count": 17,
   "id": "88f26499-1ba3-49aa-88c8-e4a21721a883",
   "metadata": {},
   "outputs": [
    {
     "name": "stdout",
     "output_type": "stream",
     "text": [
      "Student deleted successfully.\n"
     ]
    }
   ],
   "source": [
    "def delete_student(student_id):\n",
    "    cursor.execute(\"DELETE FROM sukh WHERE id=?\", (student_id,))\n",
    "    conn.commit()\n",
    "    print(\"Student deleted successfully.\")\n",
    "\n",
    "\n",
    "delete_student(2)"
   ]
  },
  {
   "cell_type": "code",
   "execution_count": 19,
   "id": "4be6c45e-72c3-461e-a95c-174e644bc2df",
   "metadata": {},
   "outputs": [
    {
     "name": "stdout",
     "output_type": "stream",
     "text": [
      "(1, 'Riya Sharma', 21, 'A+')\n",
      "(3, 'sukh', 20, 'A')\n",
      "(4, 'harshita', 22, 'B')\n"
     ]
    }
   ],
   "source": [
    "fetch_students()"
   ]
  },
  {
   "cell_type": "code",
   "execution_count": 20,
   "id": "4b8e9b51-883c-4478-ba96-508cb228874a",
   "metadata": {},
   "outputs": [
    {
     "name": "stdout",
     "output_type": "stream",
     "text": [
      "Database connection closed.\n"
     ]
    }
   ],
   "source": [
    "conn.close()\n",
    "print(\"Database connection closed.\")\n"
   ]
  },
  {
   "cell_type": "code",
   "execution_count": null,
   "id": "b784ac3b-41dd-4b42-8b16-1332f197aba9",
   "metadata": {},
   "outputs": [],
   "source": [
    "#major project"
   ]
  },
  {
   "cell_type": "code",
   "execution_count": 22,
   "id": "bd28edb2-86af-44f7-a37f-61e19b0ede96",
   "metadata": {},
   "outputs": [],
   "source": [
    "import sqlite3\n",
    "\n",
    "# Database connection\n",
    "conn = sqlite3.connect(\"atm.db\")\n",
    "cur = conn.cursor()\n",
    "\n",
    "# Table create (run once)\n",
    "cur.execute('''\n",
    "CREATE TABLE IF NOT EXISTS accounts (\n",
    "    acc_no INTEGER PRIMARY KEY AUTOINCREMENT,\n",
    "    name TEXT,\n",
    "    pin TEXT,\n",
    "    balance REAL\n",
    ")\n",
    "''')\n",
    "conn.commit()"
   ]
  },
  {
   "cell_type": "code",
   "execution_count": 23,
   "id": "74ee8707-1873-47d8-a348-71ea8b5f4958",
   "metadata": {},
   "outputs": [],
   "source": [
    "def create_account(name, pin, balance):\n",
    "    cur.execute(\"INSERT INTO accounts (name, pin, balance) VALUES (?, ?, ?)\", (name, pin, balance))\n",
    "    conn.commit()\n",
    "    print(\" Account created successfully!\")\n",
    "\n",
    "# Example\n",
    "# create_account(\"Divyank\", \"1234\", 5000)\n"
   ]
  },
  {
   "cell_type": "code",
   "execution_count": 24,
   "id": "2d035eb4-1b7b-4cec-b52b-8863f8cd74a0",
   "metadata": {},
   "outputs": [],
   "source": [
    "def login(acc_no, pin):\n",
    "    cur.execute(\"SELECT * FROM accounts WHERE acc_no=? AND pin=?\", (acc_no, pin))\n",
    "    user = cur.fetchone()\n",
    "    if user:\n",
    "        print(f\" Welcome {user[1]}!\")\n",
    "        return user\n",
    "    else:\n",
    "        print(\" Invalid account number or PIN.\")\n",
    "        return None"
   ]
  },
  {
   "cell_type": "code",
   "execution_count": 25,
   "id": "53d44604-9ca1-4f3d-8695-1b7f3d976a90",
   "metadata": {},
   "outputs": [],
   "source": [
    "def check_balance(acc_no):\n",
    "    cur.execute(\"SELECT balance FROM accounts WHERE acc_no=?\", (acc_no,))\n",
    "    balance = cur.fetchone()[0]\n",
    "    print(f\"Current Balance: {balance}\")\n"
   ]
  },
  {
   "cell_type": "code",
   "execution_count": 26,
   "id": "bb2d14dd-ecd1-4f04-9130-858ce17195d8",
   "metadata": {},
   "outputs": [],
   "source": [
    "def deposit(acc_no, amount):\n",
    "    cur.execute(\"UPDATE accounts SET balance = balance + ? WHERE acc_no=?\", (amount, acc_no))\n",
    "    conn.commit()\n",
    "    print(f\" {amount} deposited successfully.\")"
   ]
  },
  {
   "cell_type": "code",
   "execution_count": 27,
   "id": "9bebd249-a172-4ce0-84bc-cd61ea562b85",
   "metadata": {},
   "outputs": [],
   "source": [
    "def withdraw(acc_no, amount):\n",
    "    cur.execute(\"SELECT balance FROM accounts WHERE acc_no=?\", (acc_no,))\n",
    "    current_balance = cur.fetchone()[0]\n",
    "\n",
    "    if amount > current_balance:\n",
    "        print(\" Insufficient balance!\")\n",
    "    else:\n",
    "        cur.execute(\"UPDATE accounts SET balance = balance - ? WHERE acc_no=?\", (amount, acc_no))\n",
    "        conn.commit()\n",
    "        print(f\" {amount} withdrawn successfully.\")"
   ]
  },
  {
   "cell_type": "code",
   "execution_count": 28,
   "id": "df07f14a-5a8d-4fa8-ac99-2a223a900d8f",
   "metadata": {},
   "outputs": [],
   "source": [
    "def atm_menu():\n",
    "    print(\"===== Welcome to Python ATM =====\")\n",
    "    acc_no = int(input(\"Enter Account Number: \"))\n",
    "    pin = input(\"Enter PIN: \")\n",
    "\n",
    "    user = login(acc_no, pin)\n",
    "    if not user:\n",
    "        return\n",
    "\n",
    "    while True:\n",
    "        print(\"\\n--- Menu ---\")\n",
    "        print(\"1. Check Balance\")\n",
    "        print(\"2. Deposit\")\n",
    "        print(\"3. Withdraw\")\n",
    "        print(\"4. Exit\")\n",
    "        choice = input(\"Enter your choice: \")\n",
    "\n",
    "        if choice == '1':\n",
    "            check_balance(acc_no)\n",
    "        elif choice == '2':\n",
    "            amt = float(input(\"Enter amount to deposit: ₹\"))\n",
    "            deposit(acc_no, amt)\n",
    "        elif choice == '3':\n",
    "            amt = float(input(\"Enter amount to withdraw: ₹\"))\n",
    "            withdraw(acc_no, amt)\n",
    "        elif choice == '4':\n",
    "            print(\" Thank you for using the ATM. Bye!\")\n",
    "            break\n",
    "        else:\n",
    "            print(\"Invalid choice.\")\n"
   ]
  },
  {
   "cell_type": "code",
   "execution_count": 30,
   "id": "7312905c-63b0-4ede-87f9-084f89047151",
   "metadata": {},
   "outputs": [
    {
     "name": "stdout",
     "output_type": "stream",
     "text": [
      "===== Welcome to Python ATM =====\n"
     ]
    },
    {
     "name": "stdin",
     "output_type": "stream",
     "text": [
      "Enter Account Number:  12345321\n",
      "Enter PIN:  6754\n"
     ]
    },
    {
     "ename": "ProgrammingError",
     "evalue": "Cannot operate on a closed database.",
     "output_type": "error",
     "traceback": [
      "\u001b[1;31m---------------------------------------------------------------------------\u001b[0m",
      "\u001b[1;31mProgrammingError\u001b[0m                          Traceback (most recent call last)",
      "Cell \u001b[1;32mIn[30], line 1\u001b[0m\n\u001b[1;32m----> 1\u001b[0m atm_menu()\n\u001b[0;32m      2\u001b[0m conn\u001b[38;5;241m.\u001b[39mclose()\n",
      "Cell \u001b[1;32mIn[28], line 6\u001b[0m, in \u001b[0;36matm_menu\u001b[1;34m()\u001b[0m\n\u001b[0;32m      3\u001b[0m acc_no \u001b[38;5;241m=\u001b[39m \u001b[38;5;28mint\u001b[39m(\u001b[38;5;28minput\u001b[39m(\u001b[38;5;124m\"\u001b[39m\u001b[38;5;124mEnter Account Number: \u001b[39m\u001b[38;5;124m\"\u001b[39m))\n\u001b[0;32m      4\u001b[0m pin \u001b[38;5;241m=\u001b[39m \u001b[38;5;28minput\u001b[39m(\u001b[38;5;124m\"\u001b[39m\u001b[38;5;124mEnter PIN: \u001b[39m\u001b[38;5;124m\"\u001b[39m)\n\u001b[1;32m----> 6\u001b[0m user \u001b[38;5;241m=\u001b[39m login(acc_no, pin)\n\u001b[0;32m      7\u001b[0m \u001b[38;5;28;01mif\u001b[39;00m \u001b[38;5;129;01mnot\u001b[39;00m user:\n\u001b[0;32m      8\u001b[0m     \u001b[38;5;28;01mreturn\u001b[39;00m\n",
      "Cell \u001b[1;32mIn[24], line 2\u001b[0m, in \u001b[0;36mlogin\u001b[1;34m(acc_no, pin)\u001b[0m\n\u001b[0;32m      1\u001b[0m \u001b[38;5;28;01mdef\u001b[39;00m\u001b[38;5;250m \u001b[39m\u001b[38;5;21mlogin\u001b[39m(acc_no, pin):\n\u001b[1;32m----> 2\u001b[0m     cur\u001b[38;5;241m.\u001b[39mexecute(\u001b[38;5;124m\"\u001b[39m\u001b[38;5;124mSELECT * FROM accounts WHERE acc_no=? AND pin=?\u001b[39m\u001b[38;5;124m\"\u001b[39m, (acc_no, pin))\n\u001b[0;32m      3\u001b[0m     user \u001b[38;5;241m=\u001b[39m cur\u001b[38;5;241m.\u001b[39mfetchone()\n\u001b[0;32m      4\u001b[0m     \u001b[38;5;28;01mif\u001b[39;00m user:\n",
      "\u001b[1;31mProgrammingError\u001b[0m: Cannot operate on a closed database."
     ]
    }
   ],
   "source": [
    "atm_menu()\n",
    "conn.close()"
   ]
  },
  {
   "cell_type": "code",
   "execution_count": 1,
   "id": "65d8f887-8ca6-4ef1-ac0d-38ec353e92eb",
   "metadata": {},
   "outputs": [],
   "source": [
    "#numpy"
   ]
  },
  {
   "cell_type": "code",
   "execution_count": 2,
   "id": "b2b782e6-6f9a-4ace-a402-9f681bba8336",
   "metadata": {},
   "outputs": [],
   "source": [
    "import numpy as np"
   ]
  },
  {
   "cell_type": "code",
   "execution_count": 3,
   "id": "5ddffc44-8a90-4ddf-82ab-2fbf9b2b29a6",
   "metadata": {},
   "outputs": [
    {
     "name": "stdout",
     "output_type": "stream",
     "text": [
      "[1 2 3]\n",
      "[[1 2]\n",
      " [3 4]]\n"
     ]
    }
   ],
   "source": [
    "a = np.array([1, 2, 3])\n",
    "b = np.array([[1, 2], [3, 4]])\n",
    "print(a)\n",
    "print(b)"
   ]
  },
  {
   "cell_type": "code",
   "execution_count": 4,
   "id": "5743f1b5-8d77-45e5-b9d7-ab8e8261d540",
   "metadata": {},
   "outputs": [
    {
     "name": "stdout",
     "output_type": "stream",
     "text": [
      "(2, 3)\n",
      "6\n",
      "2\n",
      "int64\n"
     ]
    }
   ],
   "source": [
    "arr = np.array([[1, 2, 3], [4, 5, 6]])\n",
    "print(arr.shape)\n",
    "print(arr.size)\n",
    "print(arr.ndim)\n",
    "print(arr.dtype)\n"
   ]
  },
  {
   "cell_type": "code",
   "execution_count": 5,
   "id": "309c7fea-6f50-433a-8b84-7ead3053b89d",
   "metadata": {},
   "outputs": [
    {
     "name": "stdout",
     "output_type": "stream",
     "text": [
      "[[1 2 3]\n",
      " [4 5 6]]\n"
     ]
    }
   ],
   "source": [
    "a = np.array([1, 2, 3, 4, 5, 6])\n",
    "print(a.reshape(2, 3))"
   ]
  },
  {
   "cell_type": "code",
   "execution_count": 6,
   "id": "c1413f31-8f18-4517-b860-4df6b4b532c5",
   "metadata": {},
   "outputs": [
    {
     "name": "stdout",
     "output_type": "stream",
     "text": [
      "20\n",
      "[20 30 40]\n"
     ]
    }
   ],
   "source": [
    "arr = np.array([10, 20, 30, 40, 50])\n",
    "print(arr[1])\n",
    "print(arr[1:4])"
   ]
  },
  {
   "cell_type": "code",
   "execution_count": 7,
   "id": "2dff769a-ca05-461f-8829-0f98f912cf55",
   "metadata": {},
   "outputs": [
    {
     "name": "stdout",
     "output_type": "stream",
     "text": [
      "[[0. 0. 0.]\n",
      " [0. 0. 0.]]\n",
      "[[1. 1. 1.]\n",
      " [1. 1. 1.]\n",
      " [1. 1. 1.]]\n",
      "[[1. 0. 0.]\n",
      " [0. 1. 0.]\n",
      " [0. 0. 1.]]\n",
      "[[7 7]\n",
      " [7 7]]\n",
      "[1 5 9]\n",
      "[1.         2.33333333 3.66666667 5.        ]\n"
     ]
    }
   ],
   "source": [
    "print(np.zeros((2, 3)))\n",
    "print(np.ones((3, 3)))\n",
    "print(np.eye(3, 3))\n",
    "print(np.full((2, 2), 7))\n",
    "print(np.arange(1, 10, 4))\n",
    "print(np.linspace(1, 5, 4))"
   ]
  },
  {
   "cell_type": "code",
   "execution_count": 8,
   "id": "60fd1c91-c856-4cbc-9dc8-ee0a422e389e",
   "metadata": {},
   "outputs": [
    {
     "name": "stdout",
     "output_type": "stream",
     "text": [
      "[5 7 9]\n",
      "[ 4 10 18]\n",
      "[1 4 9]\n",
      "[1.         1.41421356 1.73205081]\n",
      "2.0\n"
     ]
    }
   ],
   "source": [
    "a = np.array([1, 2, 3])\n",
    "b = np.array([4, 5, 6])\n",
    "print(a + b)\n",
    "print(a * b)\n",
    "print(a ** 2)\n",
    "print(np.sqrt(a))\n",
    "print(np.mean(a))"
   ]
  },
  {
   "cell_type": "code",
   "execution_count": 9,
   "id": "dabc73c9-70c2-4c33-9ba4-2191352d21c6",
   "metadata": {},
   "outputs": [
    {
     "name": "stdout",
     "output_type": "stream",
     "text": [
      "21\n",
      "1\n",
      "6\n",
      "[5 7 9]\n",
      "[ 6 15]\n"
     ]
    }
   ],
   "source": [
    "arr = np.array([[1, 2, 3], [4, 5, 6]])\n",
    "print(np.sum(arr))\n",
    "print(np.min(arr))\n",
    "print(np.max(arr))\n",
    "print(np.sum(arr, axis = 0))\n",
    "print(np.sum(arr, axis = 1))"
   ]
  },
  {
   "cell_type": "code",
   "execution_count": 10,
   "id": "473571e6-dccb-417b-aa86-76585fbf9323",
   "metadata": {},
   "outputs": [
    {
     "name": "stdout",
     "output_type": "stream",
     "text": [
      "[1 2 3 4]\n"
     ]
    }
   ],
   "source": [
    "arr = np.array([[1, 2], [3, 4]])\n",
    "print(arr.flatten())"
   ]
  },
  {
   "cell_type": "code",
   "execution_count": 11,
   "id": "055efdf3-16c7-424b-8e64-44ef03cec60c",
   "metadata": {},
   "outputs": [
    {
     "name": "stdout",
     "output_type": "stream",
     "text": [
      "[[1 4]\n",
      " [2 5]\n",
      " [3 6]]\n"
     ]
    }
   ],
   "source": [
    "arr = np.array([[1, 2, 3], [4, 5, 6]])\n",
    "print(arr.T)"
   ]
  },
  {
   "cell_type": "code",
   "execution_count": 12,
   "id": "5db77b28-2198-4a66-ba45-456c4b34eaea",
   "metadata": {},
   "outputs": [
    {
     "name": "stdout",
     "output_type": "stream",
     "text": [
      "[[ 4  4]\n",
      " [10  8]]\n"
     ]
    }
   ],
   "source": [
    "a = np.array([[1, 2], [3, 4]])\n",
    "b = np.array([[2, 0], [1, 2]])\n",
    "print(np.dot(a, b))"
   ]
  },
  {
   "cell_type": "code",
   "execution_count": 13,
   "id": "ced7079a-4d6e-43ec-bc53-ab117b5af7ff",
   "metadata": {},
   "outputs": [],
   "source": [
    "#numpy coding questions"
   ]
  },
  {
   "cell_type": "code",
   "execution_count": 14,
   "id": "5b87c529-c578-4d90-9998-492154b222ba",
   "metadata": {},
   "outputs": [
    {
     "name": "stdout",
     "output_type": "stream",
     "text": [
      "Array from 0 to 10:\n",
      " [ 0  1  2  3  4  5  6  7  8  9 10]\n"
     ]
    }
   ],
   "source": [
    "# Create a NumPy array of integers from 0 to 10.\n",
    "arr1 = np.arange(0, 11)\n",
    "print(\"Array from 0 to 10:\\n\", arr1)"
   ]
  },
  {
   "cell_type": "code",
   "execution_count": 15,
   "id": "2de0e308-73f3-4569-80dd-0003ab558523",
   "metadata": {},
   "outputs": [
    {
     "name": "stdout",
     "output_type": "stream",
     "text": [
      "\n",
      "Array of zeros with 5th element as 1:\n",
      " [0 0 0 0 1 0 0 0 0 0]\n"
     ]
    }
   ],
   "source": [
    "# Create an array of 10 zeros and change the 5th value to 1.\n",
    "arr2 = np.zeros(10, dtype=int)\n",
    "arr2[4] = 1     \n",
    "print(\"\\nArray of zeros with 5th element as 1:\\n\", arr2)"
   ]
  },
  {
   "cell_type": "code",
   "execution_count": 16,
   "id": "1eb459e3-f4ee-4d2d-b560-98c78d08fd16",
   "metadata": {},
   "outputs": [
    {
     "name": "stdout",
     "output_type": "stream",
     "text": [
      "\n",
      "Array of 10 ones:\n",
      " [1 1 1 1 1 1 1 1 1 1]\n"
     ]
    }
   ],
   "source": [
    "# Generate an array of 10 ones.\n",
    "arr3 = np.ones(10, dtype=int)\n",
    "print(\"\\nArray of 10 ones:\\n\", arr3)"
   ]
  },
  {
   "cell_type": "code",
   "execution_count": 17,
   "id": "8edd5d12-447b-4129-a847-c84e473e3f1b",
   "metadata": {},
   "outputs": [
    {
     "name": "stdout",
     "output_type": "stream",
     "text": [
      "\n",
      "20 equally spaced numbers between 0 and 1:\n",
      " [0.         0.05263158 0.10526316 0.15789474 0.21052632 0.26315789\n",
      " 0.31578947 0.36842105 0.42105263 0.47368421 0.52631579 0.57894737\n",
      " 0.63157895 0.68421053 0.73684211 0.78947368 0.84210526 0.89473684\n",
      " 0.94736842 1.        ]\n"
     ]
    }
   ],
   "source": [
    "# Create a 1D array of 20 equally spaced numbers between 0 and 1.\n",
    "arr4 = np.linspace(0, 1, 20)\n",
    "print(\"\\n20 equally spaced numbers between 0 and 1:\\n\", arr4)"
   ]
  },
  {
   "cell_type": "code",
   "execution_count": 18,
   "id": "a2cfe471-5d46-414f-a443-3b1aefcc7d62",
   "metadata": {},
   "outputs": [
    {
     "name": "stdout",
     "output_type": "stream",
     "text": [
      "\n",
      "3x3 Identity matrix:\n",
      " [[1. 0. 0.]\n",
      " [0. 1. 0.]\n",
      " [0. 0. 1.]]\n"
     ]
    }
   ],
   "source": [
    "# Create a 3x3 identity matrix.\n",
    "arr5 = np.eye(3)\n",
    "print(\"\\n3x3 Identity matrix:\\n\", arr5)"
   ]
  },
  {
   "cell_type": "code",
   "execution_count": null,
   "id": "a3c5606b-38dc-4baa-a92b-457519fd634a",
   "metadata": {},
   "outputs": [],
   "source": []
  }
 ],
 "metadata": {
  "kernelspec": {
   "display_name": "Python [conda env:base] *",
   "language": "python",
   "name": "conda-base-py"
  },
  "language_info": {
   "codemirror_mode": {
    "name": "ipython",
    "version": 3
   },
   "file_extension": ".py",
   "mimetype": "text/x-python",
   "name": "python",
   "nbconvert_exporter": "python",
   "pygments_lexer": "ipython3",
   "version": "3.13.5"
  }
 },
 "nbformat": 4,
 "nbformat_minor": 5
}
