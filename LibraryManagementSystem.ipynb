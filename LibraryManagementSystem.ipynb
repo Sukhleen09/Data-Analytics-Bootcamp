{
 "cells": [
  {
   "cell_type": "code",
   "execution_count": 12,
   "id": "d8a625e5-429b-4226-838d-ff9c5a0f3ee3",
   "metadata": {},
   "outputs": [],
   "source": [
    "import sqlite3\n",
    "conn = sqlite3.connect('Library.db')\n",
    "cur = conn.cursor()\n",
    "cur.execute('''\n",
    "CREATE TABLE IF NOT EXISTS User (\n",
    "    User_ID INTEGER PRIMARY KEY AUTOINCREMENT,\n",
    "    User_Name TEXT NOT NULL UNIQUE,\n",
    "    Password TEXT NOT NULL\n",
    ")\n",
    "''')\n",
    "cur.execute('''\n",
    "CREATE TABLE IF NOT EXISTS Book (\n",
    "    Book_ID INTEGER PRIMARY KEY AUTOINCREMENT,\n",
    "    Book_Title TEXT NOT NULL UNIQUE,\n",
    "    Book_Author TEXT NOT NULL,\n",
    "    Book_Price REAL NOT NULL,\n",
    "    Quantity INTEGER NOT NULL\n",
    ")\n",
    "''')\n",
    "cur.execute('''\n",
    "CREATE TABLE IF NOT EXISTS IssueBook (\n",
    "    Issue_ID INTEGER PRIMARY KEY AUTOINCREMENT,\n",
    "    User_ID INTEGER,\n",
    "    Book_ID INTEGER,\n",
    "    Issue_Date TEXT,\n",
    "    FOREIGN KEY(User_ID) REFERENCES User(User_ID),\n",
    "    FOREIGN KEY(Book_ID) REFERENCES Book(Book_ID)\n",
    ")\n",
    "''')\n",
    "cur.execute(\"SELECT COUNT(*) FROM Book\")\n",
    "if cur.fetchone()[0]==0:\n",
    "    books=[\n",
    "        (\"Python Programming\", \"John Doe\", 350.0, 3),\n",
    "        (\"Data Science 101\", \"Jane Smith\", 500.0, 2),\n",
    "        (\"Deep Learning\", \"Andrew Ng\", 750.0, 1)\n",
    "    ]\n",
    "    cur.executemany(\"INSERT INTO Book (Book_Title, Book_Author, Book_Price, Quantity) VALUES (?, ?, ?, ?)\", books)\n",
    "    conn.commit()"
   ]
  },
  {
   "cell_type": "code",
   "execution_count": 13,
   "id": "0d2a5880-f7b3-4d83-b0dd-9576df92b057",
   "metadata": {},
   "outputs": [],
   "source": [
    "def register_user(user_name,password):\n",
    "    try:\n",
    "        cur.execute(\"INSERT INTO User (User_Name,Password) VALUES (?,?)\", (user_name,password))\n",
    "        conn.commit()\n",
    "        print(\"Registration successful! You can now log in.\")\n",
    "    except sqlite3.IntegrityError:\n",
    "        print(\"Username already exists.\")\n",
    "\n",
    "def login_user(user_name,password):\n",
    "    cur.execute(\"SELECT User_ID FROM User WHERE User_Name = ? AND Password = ?\", (user_name,password))\n",
    "    user=cur.fetchone()\n",
    "    return user[0] if user else None"
   ]
  },
  {
   "cell_type": "code",
   "execution_count": 14,
   "id": "2bd6fa8e-945c-4830-998a-e8578e6bce2a",
   "metadata": {},
   "outputs": [],
   "source": [
    "def search_books(title):\n",
    "    cur.execute(\"SELECT * FROM Book WHERE Book_Title LIKE ?\", ('%' + title + '%',))\n",
    "    return cur.fetchall()\n",
    "    \n",
    "def issue_book(user_id, book_id):\n",
    "    cur.execute(\"SELECT Quantity FROM Book WHERE Book_ID = ?\", (book_id,))\n",
    "    result = cur.fetchone()\n",
    "\n",
    "    if result and result[0] > 0:\n",
    "        cur.execute(\"UPDATE Book SET Quantity = Quantity - 1 WHERE Book_ID = ?\", (book_id,))\n",
    "        issue_date =\"\"\n",
    "        cur.execute(\"INSERT INTO IssueBook (User_ID, Book_ID, Issue_Date) VALUES (?, ?, ?)\",\n",
    "                    (user_id, book_id, issue_date))\n",
    "        conn.commit()\n",
    "        print(\"Book issued successfully.\")\n",
    "    else:\n",
    "        print(\"Book is not available.\")"
   ]
  },
  {
   "cell_type": "code",
   "execution_count": null,
   "id": "661f73d0-2988-455b-8da5-541791b3fc09",
   "metadata": {},
   "outputs": [
    {
     "name": "stdout",
     "output_type": "stream",
     "text": [
      "Welcome to Library Management System\n",
      "1. Register\n",
      "2. Login\n"
     ]
    },
    {
     "name": "stdin",
     "output_type": "stream",
     "text": [
      "Select (1 or 2):  1\n",
      "Enter new username:  Sukh\n",
      "Enter new password:  pass1220\n"
     ]
    },
    {
     "name": "stdout",
     "output_type": "stream",
     "text": [
      "Username already exists.\n"
     ]
    },
    {
     "name": "stdin",
     "output_type": "stream",
     "text": [
      "\n",
      "Username:  Sukh\n",
      "Password:  pass1220\n"
     ]
    },
    {
     "name": "stdout",
     "output_type": "stream",
     "text": [
      "Login successful!\n",
      "\n",
      "Available Books:\n",
      "ID: 1 | Title: Python Programming | Author: John Doe | ₹350.0 | In Stock: 3\n",
      "ID: 2 | Title: Data Science 101 | Author: Jane Smith | ₹500.0 | In Stock: 2\n",
      "ID: 3 | Title: Deep Learning | Author: Andrew Ng | ₹750.0 | In Stock: 1\n"
     ]
    },
    {
     "name": "stdin",
     "output_type": "stream",
     "text": [
      "\n",
      "Search for a book (or press Enter to skip):  \n"
     ]
    }
   ],
   "source": [
    "def Library():\n",
    "    print(\"Welcome to Library Management System\")\n",
    "    print(\"1. Register\\n2. Login\")\n",
    "    option = input(\"Select (1 or 2): \")\n",
    "    if option == '1':\n",
    "        user_name = input(\"Enter new username: \")\n",
    "        password = input(\"Enter new password: \")\n",
    "        register_user(user_name, password)\n",
    "        \n",
    "    user_name = input(\"\\nUsername: \")\n",
    "    password = input(\"Password: \")\n",
    "    user_id = login_user(user_name, password)\n",
    "\n",
    "    if user_id:\n",
    "        print(\"Login successful!\")\n",
    "        \n",
    "        print(\"\\nAvailable Books:\")\n",
    "        cur.execute(\"SELECT * FROM Book WHERE Quantity > 0\")\n",
    "        available_books = cur.fetchall()\n",
    "\n",
    "        if available_books:\n",
    "            for book in available_books:\n",
    "                print(f\"ID: {book[0]} | Title: {book[1]} | Author: {book[2]} | ₹{book[3]} | In Stock: {book[4]}\")\n",
    "        else:\n",
    "            print(\"No books currently available.\")\n",
    "\n",
    "        title = input(\"\\nSearch for a book (or press Enter to skip): \")\n",
    "        if title.strip():\n",
    "            books = search_books(title)\n",
    "            if books:\n",
    "                print(\"\\nMatching Books:\")\n",
    "                for book in books:\n",
    "                    print(f\"ID: {book[0]} | Title: {book[1]} | Author: {book[2]} | ₹{book[3]} | In Stock: {book[4]}\")\n",
    "            else:\n",
    "                print(\"No matching books found.\")\n",
    "                return\n",
    "        else:\n",
    "            books = available_books\n",
    "\n",
    "        book_id = input(\"\\nEnter Book ID to issue (or press Enter to cancel): \")\n",
    "        if book_id:\n",
    "            issue_book(user_id, int(book_id))\n",
    "    else:\n",
    "        print(\"Invalid login.\")\n",
    "\n",
    "Library()\n",
    "conn.close()\n"
   ]
  },
  {
   "cell_type": "code",
   "execution_count": null,
   "id": "d1d5eafa-84ed-42c5-baaf-299ec1b01fa4",
   "metadata": {},
   "outputs": [],
   "source": []
  }
 ],
 "metadata": {
  "kernelspec": {
   "display_name": "Python [conda env:base] *",
   "language": "python",
   "name": "conda-base-py"
  },
  "language_info": {
   "codemirror_mode": {
    "name": "ipython",
    "version": 3
   },
   "file_extension": ".py",
   "mimetype": "text/x-python",
   "name": "python",
   "nbconvert_exporter": "python",
   "pygments_lexer": "ipython3",
   "version": "3.13.5"
  }
 },
 "nbformat": 4,
 "nbformat_minor": 5
}
