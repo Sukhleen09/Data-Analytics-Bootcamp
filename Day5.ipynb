{
 "cells": [
  {
   "cell_type": "code",
   "execution_count": 1,
   "id": "c82aaeb3-279f-4627-a144-caab9f4d8bd3",
   "metadata": {},
   "outputs": [
    {
     "name": "stdout",
     "output_type": "stream",
     "text": [
      "[1, 1, 4, 8, 7, 1]\n"
     ]
    }
   ],
   "source": [
    "#lists(data structures)\n",
    "lst=[1,1,4,8,7]\n",
    "lst.append(1)\n",
    "print(lst)"
   ]
  },
  {
   "cell_type": "code",
   "execution_count": 2,
   "id": "b5746b4d-a8cf-4ca3-b3d9-63f12599287f",
   "metadata": {},
   "outputs": [
    {
     "name": "stdout",
     "output_type": "stream",
     "text": [
      "[1, 1, 4, 8, 7, 'name', 1]\n"
     ]
    }
   ],
   "source": [
    "lst.insert(5,'name')\n",
    "print(lst)\n",
    "           "
   ]
  },
  {
   "cell_type": "code",
   "execution_count": 3,
   "id": "6ffc1acf-38e6-4063-b4b8-07837233accc",
   "metadata": {},
   "outputs": [
    {
     "name": "stdout",
     "output_type": "stream",
     "text": [
      "[1, 1, 4, 8, 7, 'name', 1, 3, 6]\n"
     ]
    }
   ],
   "source": [
    "lst.extend([3,6])\n",
    "print(lst)"
   ]
  },
  {
   "cell_type": "code",
   "execution_count": 4,
   "id": "9aebcafd-2672-4223-81fc-3d37fb3482b2",
   "metadata": {},
   "outputs": [
    {
     "name": "stdout",
     "output_type": "stream",
     "text": [
      "[1, 1, 4, 8, 7, 'name', 1, 3]\n"
     ]
    }
   ],
   "source": [
    "lst.pop()\n",
    "print(lst)"
   ]
  },
  {
   "cell_type": "code",
   "execution_count": 5,
   "id": "d31e2c41-1c75-44e0-a44a-bada2ca81414",
   "metadata": {},
   "outputs": [
    {
     "name": "stdout",
     "output_type": "stream",
     "text": [
      "[1, 4, 8, 7, 'name', 1, 3]\n"
     ]
    }
   ],
   "source": [
    "lst.remove(1)\n",
    "print(lst)"
   ]
  },
  {
   "cell_type": "code",
   "execution_count": 6,
   "id": "87e3a86d-a466-4016-ab6d-9e283ba05669",
   "metadata": {},
   "outputs": [
    {
     "data": {
      "text/plain": [
       "3"
      ]
     },
     "execution_count": 6,
     "metadata": {},
     "output_type": "execute_result"
    }
   ],
   "source": [
    "lst.index(7)"
   ]
  },
  {
   "cell_type": "code",
   "execution_count": 7,
   "id": "9e269c28-343a-42cf-8f2d-b5212d2b0beb",
   "metadata": {},
   "outputs": [
    {
     "data": {
      "text/plain": [
       "2"
      ]
     },
     "execution_count": 7,
     "metadata": {},
     "output_type": "execute_result"
    }
   ],
   "source": [
    "lst.count(1)"
   ]
  },
  {
   "cell_type": "code",
   "execution_count": 12,
   "id": "0e296e6d-f3a5-4b76-913d-8a3682a05c51",
   "metadata": {},
   "outputs": [
    {
     "name": "stdout",
     "output_type": "stream",
     "text": [
      "[1, 2, 3, 4, 5, 7]\n"
     ]
    }
   ],
   "source": [
    "lsta=[2,1,3,7,5,4]\n",
    "lsta.sort()\n",
    "print(lsta)"
   ]
  },
  {
   "cell_type": "code",
   "execution_count": 14,
   "id": "46d3bad2-6c14-474c-911e-3048c484e9da",
   "metadata": {},
   "outputs": [
    {
     "name": "stdout",
     "output_type": "stream",
     "text": [
      "[7, 5, 4, 3, 2, 1]\n"
     ]
    }
   ],
   "source": [
    "lsta.sort(reverse=True)\n",
    "print(lsta)"
   ]
  },
  {
   "cell_type": "code",
   "execution_count": 15,
   "id": "481eb7ae-6564-4d2c-b0be-6328594b290d",
   "metadata": {},
   "outputs": [
    {
     "name": "stdout",
     "output_type": "stream",
     "text": [
      "[3, 1, 8, 7, 4, 1]\n"
     ]
    }
   ],
   "source": [
    "lst.reverse()\n",
    "print(lst)"
   ]
  },
  {
   "cell_type": "code",
   "execution_count": 16,
   "id": "42eb1803-66f6-478c-ae32-aca27da4b5a5",
   "metadata": {},
   "outputs": [
    {
     "name": "stdout",
     "output_type": "stream",
     "text": [
      "[7, 5, 4, 3, 2, 1]\n"
     ]
    }
   ],
   "source": [
    "lstb=lsta.copy()\n",
    "print(lstb)"
   ]
  },
  {
   "cell_type": "code",
   "execution_count": 17,
   "id": "e73d1551-b14c-47f6-87e0-804ce84a9d02",
   "metadata": {},
   "outputs": [
    {
     "name": "stdin",
     "output_type": "stream",
     "text": [
      "Enter number 1:  5\n",
      "Enter number 2:  7\n",
      "Enter number 3:  4\n",
      "Enter number 4:  9\n",
      "Enter number 5:  3\n"
     ]
    },
    {
     "name": "stdout",
     "output_type": "stream",
     "text": [
      "Final list: [5, 7, 4, 9, 3]\n"
     ]
    }
   ],
   "source": [
    "numbers = []\n",
    "for i in range(5):\n",
    "    num = int(input(f\"Enter number {i + 1}: \"))\n",
    "    numbers.append(num)\n",
    "print(\"Final list:\", numbers)"
   ]
  },
  {
   "cell_type": "code",
   "execution_count": 18,
   "id": "00abe6a6-3355-4634-a765-f8c58a161d74",
   "metadata": {},
   "outputs": [
    {
     "name": "stdout",
     "output_type": "stream",
     "text": [
      "Updated list1: [1, 2, 3, 4, 5, 6]\n"
     ]
    }
   ],
   "source": [
    "list1 = [1, 2, 3]\n",
    "list2 = [4, 5, 6]\n",
    "list1.extend(list2)\n",
    "print(\"Updated list1:\", list1)\n"
   ]
  },
  {
   "cell_type": "code",
   "execution_count": 19,
   "id": "3568ba2b-dda0-4a01-8ecc-b75afd2e0193",
   "metadata": {},
   "outputs": [
    {
     "name": "stdout",
     "output_type": "stream",
     "text": [
      "Updated list: [10, 20, 25, 30, 40]\n"
     ]
    }
   ],
   "source": [
    "l = [10, 20, 30, 40]\n",
    "l.insert(2, 25)\n",
    "print(\"Updated list:\", l)\n"
   ]
  },
  {
   "cell_type": "code",
   "execution_count": 20,
   "id": "9271bb97-b902-4513-8e28-6f0c0ef8e4f6",
   "metadata": {},
   "outputs": [
    {
     "name": "stdout",
     "output_type": "stream",
     "text": [
      "Updated list: [10, 30, 20, 40]\n"
     ]
    }
   ],
   "source": [
    "l = [10, 20, 30, 20, 40]\n",
    "l.remove(20)\n",
    "print(\"Updated list:\", l)\n"
   ]
  },
  {
   "cell_type": "code",
   "execution_count": 21,
   "id": "5308fb89-09e7-418e-8bc0-429148e076de",
   "metadata": {},
   "outputs": [
    {
     "name": "stdout",
     "output_type": "stream",
     "text": [
      "Updated list: [1, 2, 3, 4]\n"
     ]
    }
   ],
   "source": [
    "l = [1, 2, 3, 4, 5]\n",
    "popped_item = l.pop()\n",
    "print(\"Updated list:\", l)\n"
   ]
  },
  {
   "cell_type": "code",
   "execution_count": 22,
   "id": "aa415fa4-3851-423b-a20b-50cf48573c4e",
   "metadata": {},
   "outputs": [
    {
     "name": "stdout",
     "output_type": "stream",
     "text": [
      "Index of 15: 2\n"
     ]
    }
   ],
   "source": [
    "l = [5, 10, 15, 20, 25]\n",
    "index_15 = l.index(15)\n",
    "print(\"Index of 15:\", index_15)\n"
   ]
  },
  {
   "cell_type": "code",
   "execution_count": 23,
   "id": "0ce9ce38-8c90-4969-8f36-cc958691c640",
   "metadata": {},
   "outputs": [
    {
     "name": "stdout",
     "output_type": "stream",
     "text": [
      "Number of times 2 appears: 4\n"
     ]
    }
   ],
   "source": [
    "l = [1, 2, 2, 3, 2, 4, 2]\n",
    "count_2 = l.count(2)\n",
    "print(\"Number of times 2 appears:\", count_2)\n"
   ]
  },
  {
   "cell_type": "code",
   "execution_count": 24,
   "id": "3e4431b7-4b8e-4e34-b651-a541a05758c6",
   "metadata": {},
   "outputs": [
    {
     "name": "stdout",
     "output_type": "stream",
     "text": [
      "Ascending order: [3, 5, 7, 10]\n",
      "Descending order: [10, 7, 5, 3]\n"
     ]
    }
   ],
   "source": [
    "l = [10, 5, 7, 3]\n",
    "ascending = sorted(l)\n",
    "descending = sorted(l, reverse=True)\n",
    "print(\"Ascending order:\", ascending)\n",
    "print(\"Descending order:\", descending)\n"
   ]
  },
  {
   "cell_type": "code",
   "execution_count": 1,
   "id": "d601b93a-dcd1-4ded-887a-6d5b78586078",
   "metadata": {},
   "outputs": [
    {
     "name": "stdout",
     "output_type": "stream",
     "text": [
      "Reversed list: [5, 4, 3, 2, 1]\n"
     ]
    }
   ],
   "source": [
    "l = [1, 2, 3, 4, 5]\n",
    "l.reverse()\n",
    "print(\"Reversed list:\", l)\n"
   ]
  },
  {
   "cell_type": "code",
   "execution_count": 2,
   "id": "be02ba00-e6ae-4c8e-aee9-4bfa54940d93",
   "metadata": {},
   "outputs": [
    {
     "name": "stdout",
     "output_type": "stream",
     "text": [
      "Original list: [1, 2, 3]\n",
      "Copied (modified) list: [1, 2, 3, 4]\n"
     ]
    }
   ],
   "source": [
    "original_list = [1, 2, 3]\n",
    "copied_list = original_list.copy()\n",
    "copied_list.append(4)\n",
    "print(\"Original list:\", original_list)\n",
    "print(\"Copied (modified) list:\", copied_list)\n"
   ]
  },
  {
   "cell_type": "code",
   "execution_count": 3,
   "id": "d18cf552-9cbc-4bcd-aeba-7404fe8cf0c2",
   "metadata": {},
   "outputs": [
    {
     "name": "stdout",
     "output_type": "stream",
     "text": [
      "Updated list after removing even numbers: [1, 3, 5, 7, 9]\n"
     ]
    }
   ],
   "source": [
    "numbers = [1, 2, 3, 4, 5, 6, 7, 8, 9, 10]\n",
    "updated_list = [num for num in numbers if num % 2 != 0]\n",
    "print(\"Updated list after removing even numbers:\", updated_list)\n"
   ]
  },
  {
   "cell_type": "code",
   "execution_count": 5,
   "id": "577c85c1-b98b-4716-ae9f-1af11853ad44",
   "metadata": {},
   "outputs": [
    {
     "name": "stdin",
     "output_type": "stream",
     "text": [
      "Enter the name of the student to remove:  Harman\n"
     ]
    },
    {
     "name": "stdout",
     "output_type": "stream",
     "text": [
      "Harman has been removed from the list.\n",
      "Updated student list: ['Manshi', 'Harshita', 'Ayushi', 'Dhruvika']\n"
     ]
    }
   ],
   "source": [
    "students = [\"Harman\", \"Manshi\", \"Harshita\", \"Ayushi\", \"Dhruvika\"]\n",
    "name_to_remove = input(\"Enter the name of the student to remove: \")\n",
    "if name_to_remove in students:\n",
    "    students.remove(name_to_remove)\n",
    "    print(f\"{name_to_remove} has been removed from the list.\")\n",
    "else:\n",
    "    print(f\"{name_to_remove} is not found in the list.\")\n",
    "\n",
    "# Print the updated list\n",
    "print(\"Updated student list:\", students)\n"
   ]
  },
  {
   "cell_type": "code",
   "execution_count": 6,
   "id": "99101d8a-50cb-4f6c-80bf-eb4403b6a7d4",
   "metadata": {},
   "outputs": [
    {
     "name": "stdin",
     "output_type": "stream",
     "text": [
      "Enter a number to search and remove:  40\n"
     ]
    },
    {
     "name": "stdout",
     "output_type": "stream",
     "text": [
      "40 found at index 3\n",
      "Updated list: [10, 20, 30, 50, 60]\n"
     ]
    }
   ],
   "source": [
    "numbers = [10, 20, 30, 40, 50, 60]\n",
    "num = int(input(\"Enter a number to search and remove: \"))\n",
    "if num in numbers:\n",
    "    index = numbers.index(num)\n",
    "    print(f\"{num} found at index {index}\")\n",
    "    numbers.remove(num)\n",
    "else:\n",
    "    print(f\"{num} not found in the list.\")\n",
    "print(\"Updated list:\", numbers)\n"
   ]
  },
  {
   "cell_type": "code",
   "execution_count": 7,
   "id": "86c62383-1eb5-4a5f-b10e-b638c9e05038",
   "metadata": {},
   "outputs": [
    {
     "name": "stdout",
     "output_type": "stream",
     "text": [
      "Sorted list: ['apple', 'banana', 'cherry', 'grape', 'mango']\n"
     ]
    }
   ],
   "source": [
    "words = [\"banana\", \"apple\", \"cherry\", \"mango\", \"grape\"]\n",
    "words.sort()\n",
    "print(\"Sorted list:\", words)\n"
   ]
  },
  {
   "cell_type": "code",
   "execution_count": 8,
   "id": "ad20a519-f641-42e2-b2b1-c8cf50a88ec8",
   "metadata": {},
   "outputs": [
    {
     "name": "stdout",
     "output_type": "stream",
     "text": [
      "The word 'python' appears 2 times.\n"
     ]
    }
   ],
   "source": [
    "words = [\"python\", \"java\", \"Python\", \"c++\", \"python\", \"javascript\", \"PYTHON\"]\n",
    "count = words.count(\"python\")\n",
    "print(\"The word 'python' appears\", count, \"times.\")\n"
   ]
  },
  {
   "cell_type": "code",
   "execution_count": 10,
   "id": "5db3c416-0f34-4b08-9e44-450a20ec47c3",
   "metadata": {},
   "outputs": [
    {
     "name": "stdout",
     "output_type": "stream",
     "text": [
      "Copied (modified) list: [1, 3, 4, 5, 6]\n"
     ]
    }
   ],
   "source": [
    "original_list = [1, 2, 3, 4, 5]\n",
    "copied_list = original_list.copy()\n",
    "copied_list.append(6)\n",
    "copied_list.remove(2)\n",
    "print(\"Copied (modified) list:\", copied_list)\n"
   ]
  },
  {
   "cell_type": "code",
   "execution_count": 11,
   "id": "82dab2c7-c166-4c08-9732-f12728c55f01",
   "metadata": {},
   "outputs": [
    {
     "name": "stdout",
     "output_type": "stream",
     "text": [
      "Updated list: [10, 20, 30, 999, 40, 50, 60, 70]\n"
     ]
    }
   ],
   "source": [
    "numbers = [10, 20, 30, 40, 50, 60, 70]\n",
    "new_number = 999\n",
    "middle_index = len(numbers) // 2\n",
    "numbers.insert(middle_index, new_number)\n",
    "print(\"Updated list:\", numbers)\n"
   ]
  },
  {
   "cell_type": "code",
   "execution_count": 12,
   "id": "1ecb33d9-3569-4399-b1d9-d7613f21b63b",
   "metadata": {},
   "outputs": [
    {
     "data": {
      "text/plain": [
       "{1, 2, 3, 4, 5}"
      ]
     },
     "execution_count": 12,
     "metadata": {},
     "output_type": "execute_result"
    }
   ],
   "source": [
    "set1 = set([1,2,3])\n",
    "set2 = set([2,3,4,5])\n",
    "set1.union(set2)"
   ]
  },
  {
   "cell_type": "code",
   "execution_count": 13,
   "id": "aa84a50b-de91-4add-acb0-29699bd82382",
   "metadata": {},
   "outputs": [
    {
     "data": {
      "text/plain": [
       "{2, 3}"
      ]
     },
     "execution_count": 13,
     "metadata": {},
     "output_type": "execute_result"
    }
   ],
   "source": [
    "set1.intersection(set2)"
   ]
  },
  {
   "cell_type": "code",
   "execution_count": 15,
   "id": "16c65fec-7093-4fa6-b413-3289344e734d",
   "metadata": {},
   "outputs": [
    {
     "data": {
      "text/plain": [
       "{1}"
      ]
     },
     "execution_count": 15,
     "metadata": {},
     "output_type": "execute_result"
    }
   ],
   "source": [
    "set1.difference(set2)"
   ]
  },
  {
   "cell_type": "code",
   "execution_count": 17,
   "id": "2efcd03f-e407-440a-8ea0-f743f4a45cc4",
   "metadata": {},
   "outputs": [
    {
     "data": {
      "text/plain": [
       "3"
      ]
     },
     "execution_count": 17,
     "metadata": {},
     "output_type": "execute_result"
    }
   ],
   "source": [
    "d={1:'one',2:'two',100:'hundred'}\n",
    "len(d)"
   ]
  },
  {
   "cell_type": "code",
   "execution_count": null,
   "id": "23fbd981-95e2-4047-9950-671cac88246f",
   "metadata": {},
   "outputs": [],
   "source": []
  }
 ],
 "metadata": {
  "kernelspec": {
   "display_name": "Python [conda env:base] *",
   "language": "python",
   "name": "conda-base-py"
  },
  "language_info": {
   "codemirror_mode": {
    "name": "ipython",
    "version": 3
   },
   "file_extension": ".py",
   "mimetype": "text/x-python",
   "name": "python",
   "nbconvert_exporter": "python",
   "pygments_lexer": "ipython3",
   "version": "3.13.5"
  }
 },
 "nbformat": 4,
 "nbformat_minor": 5
}
